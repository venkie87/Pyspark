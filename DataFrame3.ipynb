{
 "cells": [
  {
   "cell_type": "code",
   "execution_count": 2,
   "metadata": {},
   "outputs": [
    {
     "data": {
      "text/plain": [
       "'C:\\\\Users\\\\venk\\\\Desktop\\\\py_pgm'"
      ]
     },
     "execution_count": 2,
     "metadata": {},
     "output_type": "execute_result"
    }
   ],
   "source": [
    "import os\n",
    "os.getcwd()"
   ]
  },
  {
   "cell_type": "code",
   "execution_count": 3,
   "metadata": {},
   "outputs": [
    {
     "name": "stdout",
     "output_type": "stream",
     "text": [
      "C:\\SparkCourse\test_files\\sample_adult.csv\n"
     ]
    }
   ],
   "source": [
    "print(os.path.join(\"C:\\SparkCourse\\test_files\",\"sample_adult.csv\"))"
   ]
  },
  {
   "cell_type": "code",
   "execution_count": 147,
   "metadata": {},
   "outputs": [
    {
     "name": "stdout",
     "output_type": "stream",
     "text": [
      "+---+-----------------+-------+----------+---+-------------------+------------------+--------------+------+-----+-----+----+----+--------------+------+\n",
      "|_c0|              _c1|    _c2|       _c3|_c4|                _c5|               _c6|           _c7|   _c8|  _c9| _c10|_c11|_c12|          _c13|  _c14|\n",
      "+---+-----------------+-------+----------+---+-------------------+------------------+--------------+------+-----+-----+----+----+--------------+------+\n",
      "| 39|        State-gov|  77516| Bachelors| 13|      Never-married|      Adm-clerical| Not-in-family| White| Male| 2174|   0|  40| United-States| <=50K|\n",
      "| 50| Self-emp-not-inc|  83311| Bachelors| 13| Married-civ-spouse|   Exec-managerial|       Husband| White| Male|    0|   0|  13| United-States| <=50K|\n",
      "| 38|          Private| 215646|   HS-grad|  9|           Divorced| Handlers-cleaners| Not-in-family| White| Male|    0|   0|  40| United-States| <=50K|\n",
      "+---+-----------------+-------+----------+---+-------------------+------------------+--------------+------+-----+-----+----+----+--------------+------+\n",
      "only showing top 3 rows\n",
      "\n"
     ]
    }
   ],
   "source": [
    "df=spark.read.csv('C:\\\\SparkCourse\\\\test_files\\\\sample_adult.csv')\n",
    "type(df)\n",
    "df.show(3)"
   ]
  },
  {
   "cell_type": "code",
   "execution_count": 148,
   "metadata": {},
   "outputs": [],
   "source": [
    "import pyspark.sql\n",
    "from pyspark import SparkContext\n",
    "from pyspark.sql import SparkSession\n",
    "#import pyspark.sql.DataFrame\n",
    "df.registerTempTable(\"dftable\")   #createOrReplaceTempView not worked,Hence we used registerTempTable method\n"
   ]
  },
  {
   "cell_type": "code",
   "execution_count": 149,
   "metadata": {
    "scrolled": true
   },
   "outputs": [
    {
     "name": "stdout",
     "output_type": "stream",
     "text": [
      "+---+----------+------+----------+---+--------------+-------------+--------------+------+-----+-----+----+----+--------------+------+\n",
      "|_c0|       _c1|   _c2|       _c3|_c4|           _c5|          _c6|           _c7|   _c8|  _c9| _c10|_c11|_c12|          _c13|  _c14|\n",
      "+---+----------+------+----------+---+--------------+-------------+--------------+------+-----+-----+----+----+--------------+------+\n",
      "| 39| State-gov| 77516| Bachelors| 13| Never-married| Adm-clerical| Not-in-family| White| Male| 2174|   0|  40| United-States| <=50K|\n",
      "+---+----------+------+----------+---+--------------+-------------+--------------+------+-----+-----+----+----+--------------+------+\n",
      "only showing top 1 row\n",
      "\n"
     ]
    }
   ],
   "source": [
    "sqlContext.sql(\"select * from dftable\").show(1)"
   ]
  },
  {
   "cell_type": "code",
   "execution_count": 150,
   "metadata": {},
   "outputs": [],
   "source": [
    "spark.catalog.dropTempView(\"dftable\")  # here I droped it,Hence above error"
   ]
  },
  {
   "cell_type": "code",
   "execution_count": 151,
   "metadata": {},
   "outputs": [],
   "source": [
    "df1=df.toDF('age',\n",
    "'workclass',\n",
    "'fnlwgt',\n",
    "'education',\n",
    "'Education-num',\n",
    "'Marital-status',\n",
    "'occupation',\n",
    "'relationship',\n",
    "'race',\n",
    "'sex',\n",
    "'Capital-gain',\n",
    "'Capital-loss',\n",
    "'Hours-per-week',\n",
    "'Native-country',\n",
    "'Class (income)'\n",
    ")"
   ]
  },
  {
   "cell_type": "code",
   "execution_count": 152,
   "metadata": {},
   "outputs": [
    {
     "name": "stdout",
     "output_type": "stream",
     "text": [
      "root\n",
      " |-- age: string (nullable = true)\n",
      " |-- workclass: string (nullable = true)\n",
      " |-- fnlwgt: string (nullable = true)\n",
      " |-- education: string (nullable = true)\n",
      " |-- Education-num: string (nullable = true)\n",
      " |-- Marital-status: string (nullable = true)\n",
      " |-- occupation: string (nullable = true)\n",
      " |-- relationship: string (nullable = true)\n",
      " |-- race: string (nullable = true)\n",
      " |-- sex: string (nullable = true)\n",
      " |-- Capital-gain: string (nullable = true)\n",
      " |-- Capital-loss: string (nullable = true)\n",
      " |-- Hours-per-week: string (nullable = true)\n",
      " |-- Native-country: string (nullable = true)\n",
      " |-- Class (income): string (nullable = true)\n",
      "\n"
     ]
    }
   ],
   "source": [
    "df1.printSchema()"
   ]
  },
  {
   "cell_type": "code",
   "execution_count": 153,
   "metadata": {},
   "outputs": [
    {
     "name": "stdout",
     "output_type": "stream",
     "text": [
      "+---+-----------------+------+----------+-------------+-------------------+----------------+--------------+------+-----+------------+------------+--------------+--------------+--------------+\n",
      "|age|        workclass|fnlwgt| education|Education-num|     Marital-status|      occupation|  relationship|  race|  sex|Capital-gain|Capital-loss|Hours-per-week|Native-country|Class (income)|\n",
      "+---+-----------------+------+----------+-------------+-------------------+----------------+--------------+------+-----+------------+------------+--------------+--------------+--------------+\n",
      "| 39|        State-gov| 77516| Bachelors|           13|      Never-married|    Adm-clerical| Not-in-family| White| Male|        2174|           0|            40| United-States|         <=50K|\n",
      "| 50| Self-emp-not-inc| 83311| Bachelors|           13| Married-civ-spouse| Exec-managerial|       Husband| White| Male|           0|           0|            13| United-States|         <=50K|\n",
      "+---+-----------------+------+----------+-------------+-------------------+----------------+--------------+------+-----+------------+------------+--------------+--------------+--------------+\n",
      "only showing top 2 rows\n",
      "\n"
     ]
    }
   ],
   "source": [
    "df1.show(2)"
   ]
  },
  {
   "cell_type": "code",
   "execution_count": 154,
   "metadata": {},
   "outputs": [],
   "source": [
    "df1.registerTempTable(\"dftempview\")"
   ]
  },
  {
   "cell_type": "code",
   "execution_count": 155,
   "metadata": {},
   "outputs": [
    {
     "name": "stdout",
     "output_type": "stream",
     "text": [
      "+---+\n",
      "|age|\n",
      "+---+\n",
      "| 39|\n",
      "| 38|\n",
      "+---+\n",
      "only showing top 2 rows\n",
      "\n"
     ]
    }
   ],
   "source": [
    "sqlContext.sql(\"select age from dftempview where age < 40 \").show(2)"
   ]
  },
  {
   "cell_type": "code",
   "execution_count": 156,
   "metadata": {},
   "outputs": [
    {
     "name": "stdout",
     "output_type": "stream",
     "text": [
      "+--------+\n",
      "|max(age)|\n",
      "+--------+\n",
      "|      59|\n",
      "+--------+\n",
      "\n"
     ]
    }
   ],
   "source": [
    "max_age=\"select max(age) from dftempview\"\n",
    "sqlContext.sql(max_age).show()   #used a variable to query, this can used from outside to get query"
   ]
  },
  {
   "cell_type": "code",
   "execution_count": 157,
   "metadata": {},
   "outputs": [
    {
     "data": {
      "text/plain": [
       "DataFrame[summary: string, age: string, workclass: string, fnlwgt: string, education: string, Education-num: string, Marital-status: string, occupation: string, relationship: string, race: string, sex: string, Capital-gain: string, Capital-loss: string, Hours-per-week: string, Native-country: string, Class (income): string]"
      ]
     },
     "execution_count": 157,
     "metadata": {},
     "output_type": "execute_result"
    }
   ],
   "source": [
    "df1.describe()"
   ]
  },
  {
   "cell_type": "code",
   "execution_count": 85,
   "metadata": {},
   "outputs": [
    {
     "name": "stdout",
     "output_type": "stream",
     "text": [
      "+---+---+\n",
      "|  k|  v|\n",
      "+---+---+\n",
      "|  1|foo|\n",
      "|  2|  x|\n",
      "|  3|bar|\n",
      "+---+---+\n",
      "\n"
     ]
    }
   ],
   "source": [
    "\n",
    "'''\n",
    "df = sc.parallelize([(1, \"foo\"), (2, \"x\"), (3, \"bar\")]).toDF((\"k\", \"v\"))\n",
    "df.registerTempTable(\"df\")\n",
    "sqlContext.sql(\"SELECT * FROM df WHERE v IN {0}\".format((\"foo\", \"bar\"))).count()\n",
    "'''\n",
    "\n",
    "df.show()"
   ]
  },
  {
   "cell_type": "code",
   "execution_count": 161,
   "metadata": {},
   "outputs": [
    {
     "name": "stdout",
     "output_type": "stream",
     "text": [
      "+---+----------+------+----------+-------------+--------------+-------------+--------------+------+-----+------------+------------+--------------+--------------+--------------+\n",
      "|age| workclass|fnlwgt| education|Education-num|Marital-status|   occupation|  relationship|  race|  sex|Capital-gain|Capital-loss|Hours-per-week|Native-country|Class (income)|\n",
      "+---+----------+------+----------+-------------+--------------+-------------+--------------+------+-----+------------+------------+--------------+--------------+--------------+\n",
      "| 39| State-gov| 77516| Bachelors|           13| Never-married| Adm-clerical| Not-in-family| White| Male|        2174|           0|            40| United-States|         <=50K|\n",
      "+---+----------+------+----------+-------------+--------------+-------------+--------------+------+-----+------------+------------+--------------+--------------+--------------+\n",
      "only showing top 1 row\n",
      "\n"
     ]
    }
   ],
   "source": [
    "old_Bachelor=\"select * from dftempview where age > 34 \"\n",
    "sqlContext.sql(old_Bachelor).show(1)"
   ]
  },
  {
   "cell_type": "code",
   "execution_count": 102,
   "metadata": {},
   "outputs": [
    {
     "data": {
      "text/plain": [
       "'Returns a :class:`DataFrame` representing the result of the given query.\\n\\n        :return: :class:`DataFrame`\\n\\n        >>> sqlContext.registerDataFrameAsTable(df, \"table1\")\\n        >>> df2 = sqlContext.sql(\"SELECT field1 AS f1, field2 as f2 from table1\")\\n        >>> df2.collect()\\n        [Row(f1=1, f2=\\'row1\\'), Row(f1=2, f2=\\'row2\\'), Row(f1=3, f2=\\'row3\\')]\\n\\n        .. versionadded:: 1.0'"
      ]
     },
     "execution_count": 102,
     "metadata": {},
     "output_type": "execute_result"
    }
   ],
   "source": [
    "sqlContext.sql.__doc__"
   ]
  },
  {
   "cell_type": "code",
   "execution_count": 242,
   "metadata": {},
   "outputs": [
    {
     "name": "stdout",
     "output_type": "stream",
     "text": [
      "+---+----------+------+----------+-------------+--------------+-------------+--------------+------+-----+------------+------------+--------------+--------------+--------------+\n",
      "|age| workclass|fnlwgt| education|Education-num|Marital-status|   occupation|  relationship|  race|  sex|Capital-gain|Capital-loss|Hours-per-week|Native-country|Class (income)|\n",
      "+---+----------+------+----------+-------------+--------------+-------------+--------------+------+-----+------------+------------+--------------+--------------+--------------+\n",
      "| 39| State-gov| 77516| Bachelors|           13| Never-married| Adm-clerical| Not-in-family| White| Male|        2174|           0|            40| United-States|         <=50K|\n",
      "+---+----------+------+----------+-------------+--------------+-------------+--------------+------+-----+------------+------------+--------------+--------------+--------------+\n",
      "only showing top 1 row\n",
      "\n"
     ]
    }
   ],
   "source": [
    "old_Bachelor=\"select * from dftempview where dftempview.age = '39' \" \n",
    "sqlContext.sql(old_Bachelor).show(1)  # search string contain speacial char - hence result not given"
   ]
  },
  {
   "cell_type": "code",
   "execution_count": 226,
   "metadata": {
    "scrolled": true
   },
   "outputs": [
    {
     "name": "stdout",
     "output_type": "stream",
     "text": [
      "+----------+\n",
      "|(age = 39)|\n",
      "+----------+\n",
      "|      true|\n",
      "|     false|\n",
      "|     false|\n",
      "|     false|\n",
      "|     false|\n",
      "|     false|\n",
      "|     false|\n",
      "|     false|\n",
      "|     false|\n",
      "|     false|\n",
      "|     false|\n",
      "|     false|\n",
      "|     false|\n",
      "|     false|\n",
      "|     false|\n",
      "|     false|\n",
      "|     false|\n",
      "|     false|\n",
      "|     false|\n",
      "|     false|\n",
      "+----------+\n",
      "only showing top 20 rows\n",
      "\n"
     ]
    }
   ],
   "source": [
    "df1.select(df1.age == 39).show()   # can't fillter with select"
   ]
  },
  {
   "cell_type": "code",
   "execution_count": 227,
   "metadata": {},
   "outputs": [
    {
     "data": {
      "text/plain": [
       "2"
      ]
     },
     "execution_count": 227,
     "metadata": {},
     "output_type": "execute_result"
    }
   ],
   "source": [
    "df1.filter(df1.age == 39).count()   # filter can filter same, special character issue here too.\n"
   ]
  },
  {
   "cell_type": "code",
   "execution_count": 237,
   "metadata": {},
   "outputs": [
    {
     "name": "stdout",
     "output_type": "stream",
     "text": [
      "+---+----------+------+----------+-------------+--------------+---------------+--------------+------+-------+------------+------------+--------------+--------------+--------------+\n",
      "|age| workclass|fnlwgt| education|Education-num|Marital-status|     occupation|  relationship|  race|    sex|Capital-gain|Capital-loss|Hours-per-week|Native-country|Class (income)|\n",
      "+---+----------+------+----------+-------------+--------------+---------------+--------------+------+-------+------------+------------+--------------+--------------+--------------+\n",
      "| 39| State-gov| 77516| Bachelors|           13| Never-married|   Adm-clerical| Not-in-family| White|   Male|        2174|           0|            40| United-States|         <=50K|\n",
      "| 31|   Private| 45781|   Masters|           14| Never-married| Prof-specialty| Not-in-family| White| Female|       14084|           0|            50| United-States|          >50K|\n",
      "+---+----------+------+----------+-------------+--------------+---------------+--------------+------+-------+------------+------------+--------------+--------------+--------------+\n",
      "only showing top 2 rows\n",
      "\n"
     ]
    }
   ],
   "source": [
    "df1.filter(df1['Marital-status'].contains('Never-married')).show(2)  # finally found it"
   ]
  },
  {
   "cell_type": "code",
   "execution_count": 243,
   "metadata": {},
   "outputs": [],
   "source": [
    "pd_df=df1.toPandas()   # convert  spark dataframe to pandas dataframe"
   ]
  },
  {
   "cell_type": "code",
   "execution_count": 244,
   "metadata": {},
   "outputs": [
    {
     "data": {
      "text/plain": [
       "pandas.core.frame.DataFrame"
      ]
     },
     "execution_count": 244,
     "metadata": {},
     "output_type": "execute_result"
    }
   ],
   "source": [
    "type(pd_df)"
   ]
  },
  {
   "cell_type": "code",
   "execution_count": null,
   "metadata": {},
   "outputs": [],
   "source": [
    "# how to create dataframe from python dict\n",
    "#https://stackoverflow.com/questions/53219863/create-a-dataframe-from-column-of-dictionaries-in-pyspark"
   ]
  },
  {
   "cell_type": "code",
   "execution_count": null,
   "metadata": {},
   "outputs": [],
   "source": []
  }
 ],
 "metadata": {
  "kernelspec": {
   "display_name": "Python 3",
   "language": "python",
   "name": "python3"
  },
  "language_info": {
   "codemirror_mode": {
    "name": "ipython",
    "version": 3
   },
   "file_extension": ".py",
   "mimetype": "text/x-python",
   "name": "python",
   "nbconvert_exporter": "python",
   "pygments_lexer": "ipython3",
   "version": "3.7.1"
  }
 },
 "nbformat": 4,
 "nbformat_minor": 2
}
