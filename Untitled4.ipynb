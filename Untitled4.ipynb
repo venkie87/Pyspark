{
 "cells": [
  {
   "cell_type": "code",
   "execution_count": 2,
   "metadata": {},
   "outputs": [
    {
     "name": "stdout",
     "output_type": "stream",
     "text": [
      "Success!\n"
     ]
    }
   ],
   "source": [
    "import requests\n",
    "response = requests.get('https://ocw.mit.edu/ans7870/6/6.006/s08/lecturenotes/files/t8.shakespeare.txt')\n",
    "if response.status_code == 200:\n",
    "    print('Success!')\n",
    "elif response.status_code == 404:\n",
    "    print('Not Found.')"
   ]
  },
  {
   "cell_type": "code",
   "execution_count": 4,
   "metadata": {},
   "outputs": [],
   "source": [
    "data=response.text"
   ]
  },
  {
   "cell_type": "code",
   "execution_count": null,
   "metadata": {},
   "outputs": [],
   "source": [
    "print(data)"
   ]
  },
  {
   "cell_type": "code",
   "execution_count": 3,
   "metadata": {},
   "outputs": [
    {
     "data": {
      "text/plain": [
       "'C:\\\\Users\\\\venk\\\\Desktop\\\\py_pgm'"
      ]
     },
     "execution_count": 3,
     "metadata": {},
     "output_type": "execute_result"
    }
   ],
   "source": [
    "import os\n",
    "os.getcwd()"
   ]
  },
  {
   "cell_type": "code",
   "execution_count": 4,
   "metadata": {},
   "outputs": [],
   "source": [
    "os.chdir('C:\\\\Users\\\\venk\\\\Desktop\\\\py_pgm\\\\sample_file')"
   ]
  },
  {
   "cell_type": "code",
   "execution_count": 5,
   "metadata": {},
   "outputs": [
    {
     "data": {
      "text/plain": [
       "'C:\\\\Users\\\\venk\\\\Desktop\\\\py_pgm\\\\sample_file'"
      ]
     },
     "execution_count": 5,
     "metadata": {},
     "output_type": "execute_result"
    }
   ],
   "source": [
    "os.getcwd()"
   ]
  },
  {
   "cell_type": "code",
   "execution_count": 8,
   "metadata": {},
   "outputs": [
    {
     "name": "stdout",
     "output_type": "stream",
     "text": [
      "From fairest creatures we desire increase,\n",
      "\n",
      "That thereby beauty's rose might never die,\n",
      "\n",
      "But as the riper should by time decease,\n",
      "\n",
      "His tender heir might bear his memory:\n",
      "\n",
      "But thou contracted to thine own bright eyes,\n",
      "\n",
      "Feed'st thy light's flame with self-substantial fuel,\n",
      "\n",
      "Making a famine where abundance lies,\n",
      "\n",
      "Thy self thy foe, to thy sweet self too cruel:\n",
      "\n",
      "Thou that art now the world's fresh ornament,\n",
      "\n",
      "And only herald to the gaudy spring,\n",
      "\n",
      "Within thine own bud buriest thy content,\n",
      "\n",
      "And tender churl mak'st waste in niggarding:\n",
      "\n",
      "Pity the world, or else this glutton be,\n",
      "\n",
      "To eat the world's due, by the grave and thee.\n"
     ]
    },
    {
     "ename": "NameError",
     "evalue": "name 'close' is not defined",
     "output_type": "error",
     "traceback": [
      "\u001b[1;31m---------------------------------------------------------------------------\u001b[0m",
      "\u001b[1;31mNameError\u001b[0m                                 Traceback (most recent call last)",
      "\u001b[1;32m<ipython-input-8-f838e38434de>\u001b[0m in \u001b[0;36m<module>\u001b[1;34m\u001b[0m\n\u001b[0;32m      2\u001b[0m \u001b[1;32mfor\u001b[0m \u001b[0mline\u001b[0m \u001b[1;32min\u001b[0m \u001b[0mfile\u001b[0m\u001b[1;33m:\u001b[0m\u001b[1;33m\u001b[0m\u001b[1;33m\u001b[0m\u001b[0m\n\u001b[0;32m      3\u001b[0m     \u001b[0mprint\u001b[0m \u001b[1;33m(\u001b[0m\u001b[0mline\u001b[0m\u001b[1;33m)\u001b[0m\u001b[1;33m\u001b[0m\u001b[1;33m\u001b[0m\u001b[0m\n\u001b[1;32m----> 4\u001b[1;33m \u001b[0mclose\u001b[0m\u001b[1;33m(\u001b[0m\u001b[1;34m'shek.txt'\u001b[0m\u001b[1;33m)\u001b[0m\u001b[1;33m\u001b[0m\u001b[1;33m\u001b[0m\u001b[0m\n\u001b[0m",
      "\u001b[1;31mNameError\u001b[0m: name 'close' is not defined"
     ]
    }
   ],
   "source": [
    "file = open('shek.txt', 'r')\n",
    "for line in file:\n",
    "    print (line)\n",
    "close('shek.txt')"
   ]
  },
  {
   "cell_type": "code",
   "execution_count": 7,
   "metadata": {},
   "outputs": [
    {
     "data": {
      "text/plain": [
       "_io.TextIOWrapper"
      ]
     },
     "execution_count": 7,
     "metadata": {},
     "output_type": "execute_result"
    }
   ],
   "source": [
    "type(file)"
   ]
  },
  {
   "cell_type": "code",
   "execution_count": 11,
   "metadata": {},
   "outputs": [],
   "source": [
    "with open('shek.txt') as file:\n",
    "    data=file.read().replace('\\n',' ')"
   ]
  },
  {
   "cell_type": "code",
   "execution_count": 12,
   "metadata": {},
   "outputs": [
    {
     "data": {
      "text/plain": [
       "\"From fairest creatures we desire increase, That thereby beauty's rose might never die, But as the riper should by time decease, His tender heir might bear his memory: But thou contracted to thine own bright eyes, Feed'st thy light's flame with self-substantial fuel, Making a famine where abundance lies, Thy self thy foe, to thy sweet self too cruel: Thou that art now the world's fresh ornament, And only herald to the gaudy spring, Within thine own bud buriest thy content, And tender churl mak'st waste in niggarding: Pity the world, or else this glutton be, To eat the world's due, by the grave and thee.\""
      ]
     },
     "execution_count": 12,
     "metadata": {},
     "output_type": "execute_result"
    }
   ],
   "source": [
    "data"
   ]
  },
  {
   "cell_type": "code",
   "execution_count": 14,
   "metadata": {},
   "outputs": [],
   "source": [
    "data=data.split(' ')"
   ]
  },
  {
   "cell_type": "code",
   "execution_count": 15,
   "metadata": {},
   "outputs": [
    {
     "data": {
      "text/plain": [
       "['From',\n",
       " 'fairest',\n",
       " 'creatures',\n",
       " 'we',\n",
       " 'desire',\n",
       " 'increase,',\n",
       " 'That',\n",
       " 'thereby',\n",
       " \"beauty's\",\n",
       " 'rose',\n",
       " 'might',\n",
       " 'never',\n",
       " 'die,',\n",
       " 'But',\n",
       " 'as',\n",
       " 'the',\n",
       " 'riper',\n",
       " 'should',\n",
       " 'by',\n",
       " 'time',\n",
       " 'decease,',\n",
       " 'His',\n",
       " 'tender',\n",
       " 'heir',\n",
       " 'might',\n",
       " 'bear',\n",
       " 'his',\n",
       " 'memory:',\n",
       " 'But',\n",
       " 'thou',\n",
       " 'contracted',\n",
       " 'to',\n",
       " 'thine',\n",
       " 'own',\n",
       " 'bright',\n",
       " 'eyes,',\n",
       " \"Feed'st\",\n",
       " 'thy',\n",
       " \"light's\",\n",
       " 'flame',\n",
       " 'with',\n",
       " 'self-substantial',\n",
       " 'fuel,',\n",
       " 'Making',\n",
       " 'a',\n",
       " 'famine',\n",
       " 'where',\n",
       " 'abundance',\n",
       " 'lies,',\n",
       " 'Thy',\n",
       " 'self',\n",
       " 'thy',\n",
       " 'foe,',\n",
       " 'to',\n",
       " 'thy',\n",
       " 'sweet',\n",
       " 'self',\n",
       " 'too',\n",
       " 'cruel:',\n",
       " 'Thou',\n",
       " 'that',\n",
       " 'art',\n",
       " 'now',\n",
       " 'the',\n",
       " \"world's\",\n",
       " 'fresh',\n",
       " 'ornament,',\n",
       " 'And',\n",
       " 'only',\n",
       " 'herald',\n",
       " 'to',\n",
       " 'the',\n",
       " 'gaudy',\n",
       " 'spring,',\n",
       " 'Within',\n",
       " 'thine',\n",
       " 'own',\n",
       " 'bud',\n",
       " 'buriest',\n",
       " 'thy',\n",
       " 'content,',\n",
       " 'And',\n",
       " 'tender',\n",
       " 'churl',\n",
       " \"mak'st\",\n",
       " 'waste',\n",
       " 'in',\n",
       " 'niggarding:',\n",
       " 'Pity',\n",
       " 'the',\n",
       " 'world,',\n",
       " 'or',\n",
       " 'else',\n",
       " 'this',\n",
       " 'glutton',\n",
       " 'be,',\n",
       " 'To',\n",
       " 'eat',\n",
       " 'the',\n",
       " \"world's\",\n",
       " 'due,',\n",
       " 'by',\n",
       " 'the',\n",
       " 'grave',\n",
       " 'and',\n",
       " 'thee.']"
      ]
     },
     "execution_count": 15,
     "metadata": {},
     "output_type": "execute_result"
    }
   ],
   "source": [
    "data"
   ]
  },
  {
   "cell_type": "code",
   "execution_count": 16,
   "metadata": {},
   "outputs": [
    {
     "data": {
      "text/plain": [
       "{'From': 1,\n",
       " 'fairest': 1,\n",
       " 'creatures': 1,\n",
       " 'we': 1,\n",
       " 'desire': 1,\n",
       " 'increase,': 1,\n",
       " 'That': 1,\n",
       " 'thereby': 1,\n",
       " \"beauty's\": 1,\n",
       " 'rose': 1,\n",
       " 'might': 2,\n",
       " 'never': 1,\n",
       " 'die,': 1,\n",
       " 'But': 2,\n",
       " 'as': 1,\n",
       " 'the': 6,\n",
       " 'riper': 1,\n",
       " 'should': 1,\n",
       " 'by': 2,\n",
       " 'time': 1,\n",
       " 'decease,': 1,\n",
       " 'His': 1,\n",
       " 'tender': 2,\n",
       " 'heir': 1,\n",
       " 'bear': 1,\n",
       " 'his': 1,\n",
       " 'memory:': 1,\n",
       " 'thou': 1,\n",
       " 'contracted': 1,\n",
       " 'to': 3,\n",
       " 'thine': 2,\n",
       " 'own': 2,\n",
       " 'bright': 1,\n",
       " 'eyes,': 1,\n",
       " \"Feed'st\": 1,\n",
       " 'thy': 4,\n",
       " \"light's\": 1,\n",
       " 'flame': 1,\n",
       " 'with': 1,\n",
       " 'self-substantial': 1,\n",
       " 'fuel,': 1,\n",
       " 'Making': 1,\n",
       " 'a': 1,\n",
       " 'famine': 1,\n",
       " 'where': 1,\n",
       " 'abundance': 1,\n",
       " 'lies,': 1,\n",
       " 'Thy': 1,\n",
       " 'self': 2,\n",
       " 'foe,': 1,\n",
       " 'sweet': 1,\n",
       " 'too': 1,\n",
       " 'cruel:': 1,\n",
       " 'Thou': 1,\n",
       " 'that': 1,\n",
       " 'art': 1,\n",
       " 'now': 1,\n",
       " \"world's\": 2,\n",
       " 'fresh': 1,\n",
       " 'ornament,': 1,\n",
       " 'And': 2,\n",
       " 'only': 1,\n",
       " 'herald': 1,\n",
       " 'gaudy': 1,\n",
       " 'spring,': 1,\n",
       " 'Within': 1,\n",
       " 'bud': 1,\n",
       " 'buriest': 1,\n",
       " 'content,': 1,\n",
       " 'churl': 1,\n",
       " \"mak'st\": 1,\n",
       " 'waste': 1,\n",
       " 'in': 1,\n",
       " 'niggarding:': 1,\n",
       " 'Pity': 1,\n",
       " 'world,': 1,\n",
       " 'or': 1,\n",
       " 'else': 1,\n",
       " 'this': 1,\n",
       " 'glutton': 1,\n",
       " 'be,': 1,\n",
       " 'To': 1,\n",
       " 'eat': 1,\n",
       " 'due,': 1,\n",
       " 'grave': 1,\n",
       " 'and': 1,\n",
       " 'thee.': 1}"
      ]
     },
     "execution_count": 16,
     "metadata": {},
     "output_type": "execute_result"
    }
   ],
   "source": [
    "dic={}\n",
    "def f(data):\n",
    "    for word in data:\n",
    "        if word in dic:\n",
    "            dic[word] += 1\n",
    "        else:\n",
    "            dic[word] = 1\n",
    "\n",
    "\n",
    "f(data)\n",
    "dic"
   ]
  },
  {
   "cell_type": "code",
   "execution_count": 39,
   "metadata": {},
   "outputs": [],
   "source": [
    "stop_words=['and','To','or','in','a','to','by','as','that','we','but','be,','But','the','this','His','his']"
   ]
  },
  {
   "cell_type": "code",
   "execution_count": 40,
   "metadata": {},
   "outputs": [],
   "source": [
    "for i in stop_words:\n",
    "    T=True\n",
    "    while T:\n",
    "        if i in dic:\n",
    "            dic.pop(i,None)\n",
    "        else:\n",
    "            T=False"
   ]
  },
  {
   "cell_type": "code",
   "execution_count": 50,
   "metadata": {},
   "outputs": [
    {
     "data": {
      "text/plain": [
       "{'From': 1,\n",
       " 'fairest': 1,\n",
       " 'creatures': 1,\n",
       " 'desire': 1,\n",
       " 'increase,': 1,\n",
       " 'thereby': 1,\n",
       " \"beauty's\": 1,\n",
       " 'rose': 1,\n",
       " 'might': 2,\n",
       " 'never': 1,\n",
       " 'die,': 1,\n",
       " 'riper': 1,\n",
       " 'should': 1,\n",
       " 'time': 1,\n",
       " 'decease,': 1,\n",
       " 'tender': 2,\n",
       " 'heir': 1,\n",
       " 'bear': 1,\n",
       " 'memory:': 1,\n",
       " 'thou': 1,\n",
       " 'contracted': 1,\n",
       " 'thine': 2,\n",
       " 'own': 2,\n",
       " 'bright': 1,\n",
       " 'eyes,': 1,\n",
       " \"Feed'st\": 1,\n",
       " 'thy': 4,\n",
       " \"light's\": 1,\n",
       " 'flame': 1,\n",
       " 'with': 1,\n",
       " 'self-substantial': 1,\n",
       " 'fuel,': 1,\n",
       " 'Making': 1,\n",
       " 'famine': 1,\n",
       " 'where': 1,\n",
       " 'abundance': 1,\n",
       " 'lies,': 1,\n",
       " 'Thy': 1,\n",
       " 'self': 2,\n",
       " 'foe,': 1,\n",
       " 'sweet': 1,\n",
       " 'too': 1,\n",
       " 'cruel:': 1,\n",
       " 'Thou': 1,\n",
       " 'art': 1,\n",
       " 'now': 1,\n",
       " \"world's\": 2,\n",
       " 'fresh': 1,\n",
       " 'ornament,': 1,\n",
       " 'And': 2,\n",
       " 'only': 1,\n",
       " 'herald': 1,\n",
       " 'gaudy': 1,\n",
       " 'spring,': 1,\n",
       " 'Within': 1,\n",
       " 'bud': 1,\n",
       " 'buriest': 1,\n",
       " 'content,': 1,\n",
       " 'churl': 1,\n",
       " \"mak'st\": 1,\n",
       " 'waste': 1,\n",
       " 'niggarding:': 1,\n",
       " 'Pity': 1,\n",
       " 'world,': 1,\n",
       " 'else': 1,\n",
       " 'glutton': 1,\n",
       " 'eat': 1,\n",
       " 'due,': 1,\n",
       " 'grave': 1,\n",
       " 'thee.': 1}"
      ]
     },
     "execution_count": 50,
     "metadata": {},
     "output_type": "execute_result"
    }
   ],
   "source": [
    "dic"
   ]
  },
  {
   "cell_type": "code",
   "execution_count": 58,
   "metadata": {},
   "outputs": [],
   "source": [
    "lst=[ (dic[w],w) for w in dic]"
   ]
  },
  {
   "cell_type": "code",
   "execution_count": 59,
   "metadata": {},
   "outputs": [
    {
     "data": {
      "text/plain": [
       "[(1, 'From'),\n",
       " (1, 'fairest'),\n",
       " (1, 'creatures'),\n",
       " (1, 'desire'),\n",
       " (1, 'increase,'),\n",
       " (1, 'thereby'),\n",
       " (1, \"beauty's\"),\n",
       " (1, 'rose'),\n",
       " (2, 'might'),\n",
       " (1, 'never'),\n",
       " (1, 'die,'),\n",
       " (1, 'riper'),\n",
       " (1, 'should'),\n",
       " (1, 'time'),\n",
       " (1, 'decease,'),\n",
       " (2, 'tender'),\n",
       " (1, 'heir'),\n",
       " (1, 'bear'),\n",
       " (1, 'memory:'),\n",
       " (1, 'thou'),\n",
       " (1, 'contracted'),\n",
       " (2, 'thine'),\n",
       " (2, 'own'),\n",
       " (1, 'bright'),\n",
       " (1, 'eyes,'),\n",
       " (1, \"Feed'st\"),\n",
       " (4, 'thy'),\n",
       " (1, \"light's\"),\n",
       " (1, 'flame'),\n",
       " (1, 'with'),\n",
       " (1, 'self-substantial'),\n",
       " (1, 'fuel,'),\n",
       " (1, 'Making'),\n",
       " (1, 'famine'),\n",
       " (1, 'where'),\n",
       " (1, 'abundance'),\n",
       " (1, 'lies,'),\n",
       " (1, 'Thy'),\n",
       " (2, 'self'),\n",
       " (1, 'foe,'),\n",
       " (1, 'sweet'),\n",
       " (1, 'too'),\n",
       " (1, 'cruel:'),\n",
       " (1, 'Thou'),\n",
       " (1, 'art'),\n",
       " (1, 'now'),\n",
       " (2, \"world's\"),\n",
       " (1, 'fresh'),\n",
       " (1, 'ornament,'),\n",
       " (2, 'And'),\n",
       " (1, 'only'),\n",
       " (1, 'herald'),\n",
       " (1, 'gaudy'),\n",
       " (1, 'spring,'),\n",
       " (1, 'Within'),\n",
       " (1, 'bud'),\n",
       " (1, 'buriest'),\n",
       " (1, 'content,'),\n",
       " (1, 'churl'),\n",
       " (1, \"mak'st\"),\n",
       " (1, 'waste'),\n",
       " (1, 'niggarding:'),\n",
       " (1, 'Pity'),\n",
       " (1, 'world,'),\n",
       " (1, 'else'),\n",
       " (1, 'glutton'),\n",
       " (1, 'eat'),\n",
       " (1, 'due,'),\n",
       " (1, 'grave'),\n",
       " (1, 'thee.')]"
      ]
     },
     "execution_count": 59,
     "metadata": {},
     "output_type": "execute_result"
    }
   ],
   "source": [
    "lst"
   ]
  },
  {
   "cell_type": "code",
   "execution_count": 60,
   "metadata": {},
   "outputs": [],
   "source": [
    "lst.sort()"
   ]
  },
  {
   "cell_type": "code",
   "execution_count": 62,
   "metadata": {},
   "outputs": [],
   "source": [
    "lst.reverse()"
   ]
  },
  {
   "cell_type": "code",
   "execution_count": 63,
   "metadata": {},
   "outputs": [
    {
     "data": {
      "text/plain": [
       "[(4, 'thy'),\n",
       " (2, \"world's\"),\n",
       " (2, 'thine'),\n",
       " (2, 'tender'),\n",
       " (2, 'self'),\n",
       " (2, 'own'),\n",
       " (2, 'might'),\n",
       " (2, 'And'),\n",
       " (1, 'world,'),\n",
       " (1, 'with'),\n",
       " (1, 'where'),\n",
       " (1, 'waste'),\n",
       " (1, 'too'),\n",
       " (1, 'time'),\n",
       " (1, 'thou'),\n",
       " (1, 'thereby'),\n",
       " (1, 'thee.'),\n",
       " (1, 'sweet'),\n",
       " (1, 'spring,'),\n",
       " (1, 'should'),\n",
       " (1, 'self-substantial'),\n",
       " (1, 'rose'),\n",
       " (1, 'riper'),\n",
       " (1, 'ornament,'),\n",
       " (1, 'only'),\n",
       " (1, 'now'),\n",
       " (1, 'niggarding:'),\n",
       " (1, 'never'),\n",
       " (1, 'memory:'),\n",
       " (1, \"mak'st\"),\n",
       " (1, \"light's\"),\n",
       " (1, 'lies,'),\n",
       " (1, 'increase,'),\n",
       " (1, 'herald'),\n",
       " (1, 'heir'),\n",
       " (1, 'grave'),\n",
       " (1, 'glutton'),\n",
       " (1, 'gaudy'),\n",
       " (1, 'fuel,'),\n",
       " (1, 'fresh'),\n",
       " (1, 'foe,'),\n",
       " (1, 'flame'),\n",
       " (1, 'famine'),\n",
       " (1, 'fairest'),\n",
       " (1, 'eyes,'),\n",
       " (1, 'else'),\n",
       " (1, 'eat'),\n",
       " (1, 'due,'),\n",
       " (1, 'die,'),\n",
       " (1, 'desire'),\n",
       " (1, 'decease,'),\n",
       " (1, 'cruel:'),\n",
       " (1, 'creatures'),\n",
       " (1, 'contracted'),\n",
       " (1, 'content,'),\n",
       " (1, 'churl'),\n",
       " (1, 'buriest'),\n",
       " (1, 'bud'),\n",
       " (1, 'bright'),\n",
       " (1, \"beauty's\"),\n",
       " (1, 'bear'),\n",
       " (1, 'art'),\n",
       " (1, 'abundance'),\n",
       " (1, 'Within'),\n",
       " (1, 'Thy'),\n",
       " (1, 'Thou'),\n",
       " (1, 'Pity'),\n",
       " (1, 'Making'),\n",
       " (1, 'From'),\n",
       " (1, \"Feed'st\")]"
      ]
     },
     "execution_count": 63,
     "metadata": {},
     "output_type": "execute_result"
    }
   ],
   "source": [
    "lst"
   ]
  },
  {
   "cell_type": "code",
   "execution_count": 64,
   "metadata": {},
   "outputs": [
    {
     "data": {
      "text/plain": [
       "[(4, 'thy'), (2, \"world's\"), (2, 'thine'), (2, 'tender'), (2, 'self')]"
      ]
     },
     "execution_count": 64,
     "metadata": {},
     "output_type": "execute_result"
    }
   ],
   "source": [
    "lst[:5]"
   ]
  },
  {
   "cell_type": "code",
   "execution_count": 74,
   "metadata": {},
   "outputs": [
    {
     "name": "stdout",
     "output_type": "stream",
     "text": [
      "enter the year1900\n",
      "Not a Leap Year\n"
     ]
    }
   ],
   "source": [
    "# Finding Leap Year\n",
    "y=int(input('enter the year'))\n",
    "if (y%4 == 0):\n",
    "    if (y%100 ==0 and y%400 ==0):\n",
    "        print('Leap Year')\n",
    "    else:\n",
    "        print('Not a Leap Year')\n",
    "else:\n",
    "    print('Not a Leap Year')\n"
   ]
  },
  {
   "cell_type": "code",
   "execution_count": 66,
   "metadata": {},
   "outputs": [
    {
     "data": {
      "text/plain": [
       "1"
      ]
     },
     "execution_count": 66,
     "metadata": {},
     "output_type": "execute_result"
    }
   ],
   "source": [
    "3%2"
   ]
  },
  {
   "cell_type": "code",
   "execution_count": 84,
   "metadata": {},
   "outputs": [
    {
     "name": "stdout",
     "output_type": "stream",
     "text": [
      "Enter year to be checked:2001\n",
      "The year isn't a leap year!\n"
     ]
    }
   ],
   "source": [
    "year=int(input(\"Enter year to be checked:\"))\n",
    "if(year%4==0 and year%100!=0 or year%400==0):\n",
    "    print(\"The year is a leap year!\")\n",
    "else:\n",
    "    print('''The year isn't a leap year!''')"
   ]
  },
  {
   "cell_type": "code",
   "execution_count": 95,
   "metadata": {},
   "outputs": [
    {
     "name": "stdout",
     "output_type": "stream",
     "text": [
      "12\n"
     ]
    }
   ],
   "source": [
    "print(1,2,sep='')"
   ]
  },
  {
   "cell_type": "code",
   "execution_count": 102,
   "metadata": {},
   "outputs": [
    {
     "data": {
      "text/plain": [
       "[1, 2, 3]"
      ]
     },
     "execution_count": 102,
     "metadata": {},
     "output_type": "execute_result"
    }
   ],
   "source": [
    "l=[]\n",
    "for i in range(1,4):\n",
    "    l.append(i)\n",
    "l"
   ]
  },
  {
   "cell_type": "code",
   "execution_count": 103,
   "metadata": {},
   "outputs": [
    {
     "name": "stdout",
     "output_type": "stream",
     "text": [
      "123\n"
     ]
    }
   ],
   "source": [
    "print(l[0],l[1],l[2],sep='')"
   ]
  },
  {
   "cell_type": "code",
   "execution_count": 134,
   "metadata": {},
   "outputs": [],
   "source": [
    "l=[]\n",
    "s=''\n",
    "for i in range(1,3+1):\n",
    "    l.append(i)\n",
    "    \n",
    "for j in range(len(l)):\n",
    "    s = s + str(l[j])"
   ]
  },
  {
   "cell_type": "code",
   "execution_count": 135,
   "metadata": {},
   "outputs": [
    {
     "data": {
      "text/plain": [
       "'123'"
      ]
     },
     "execution_count": 135,
     "metadata": {},
     "output_type": "execute_result"
    }
   ],
   "source": [
    "s"
   ]
  },
  {
   "cell_type": "code",
   "execution_count": 128,
   "metadata": {},
   "outputs": [
    {
     "data": {
      "text/plain": [
       "[1, 2, 3]"
      ]
     },
     "execution_count": 128,
     "metadata": {},
     "output_type": "execute_result"
    }
   ],
   "source": [
    "k"
   ]
  },
  {
   "cell_type": "code",
   "execution_count": 2,
   "metadata": {},
   "outputs": [
    {
     "name": "stdout",
     "output_type": "stream",
     "text": [
      "[[1 2]\n",
      " [3 4]\n",
      " [5 6]]\n"
     ]
    }
   ],
   "source": [
    "# Reshape\n",
    "import numpy\n",
    "\n",
    "my_array = numpy.array([1,2,3,4,5,6])\n",
    "print (numpy.reshape(my_array,(3,2)))\n",
    "\n",
    "#Output\n",
    "#[[1 2]\n",
    "#[3 4]\n",
    "#[5 6]]"
   ]
  },
  {
   "cell_type": "code",
   "execution_count": 4,
   "metadata": {},
   "outputs": [],
   "source": [
    "l=[]\n",
    "s='1 2 3 4 5 6 7 8 9'\n",
    "for i in s:\n",
    "    if i != ' ':\n",
    "        l.append(int(i))"
   ]
  },
  {
   "cell_type": "code",
   "execution_count": 5,
   "metadata": {},
   "outputs": [
    {
     "name": "stdout",
     "output_type": "stream",
     "text": [
      "[[1 2 3]\n",
      " [4 5 6]\n",
      " [7 8 9]]\n"
     ]
    }
   ],
   "source": [
    "my_array = numpy.array(l)\n",
    "print (numpy.reshape(my_array,(3,3)))"
   ]
  },
  {
   "cell_type": "code",
   "execution_count": 1,
   "metadata": {},
   "outputs": [
    {
     "ename": "NameError",
     "evalue": "name 'l' is not defined",
     "output_type": "error",
     "traceback": [
      "\u001b[1;31m---------------------------------------------------------------------------\u001b[0m",
      "\u001b[1;31mNameError\u001b[0m                                 Traceback (most recent call last)",
      "\u001b[1;32m<ipython-input-1-cde25b5e10ad>\u001b[0m in \u001b[0;36m<module>\u001b[1;34m\u001b[0m\n\u001b[1;32m----> 1\u001b[1;33m \u001b[0ml\u001b[0m\u001b[1;33m\u001b[0m\u001b[1;33m\u001b[0m\u001b[0m\n\u001b[0m",
      "\u001b[1;31mNameError\u001b[0m: name 'l' is not defined"
     ]
    }
   ],
   "source": [
    "l"
   ]
  },
  {
   "cell_type": "code",
   "execution_count": 6,
   "metadata": {},
   "outputs": [
    {
     "name": "stdout",
     "output_type": "stream",
     "text": [
      "3\n",
      "Weird\n"
     ]
    }
   ],
   "source": [
    "n=int(input())\n",
    "if (n%2 == 0):\n",
    "    if (n > 20):\n",
    "        print('Not Weird')\n",
    "    elif (n < 20 and n > 5):\n",
    "        print('Weird')\n",
    "    elif (n < 6 and n > 1) :\n",
    "        print('Not Weird')\n",
    "elif (n%2 == 1):\n",
    "    print('Weird')"
   ]
  },
  {
   "cell_type": "code",
   "execution_count": 4,
   "metadata": {},
   "outputs": [],
   "source": [
    "from pyspark.sql import functions as f\n"
   ]
  },
  {
   "cell_type": "code",
   "execution_count": 25,
   "metadata": {},
   "outputs": [],
   "source": [
    "rd=sc.parallelize([(float(2.343) , float(23.221))])"
   ]
  },
  {
   "cell_type": "code",
   "execution_count": 26,
   "metadata": {},
   "outputs": [],
   "source": [
    "df=rd.toDF()"
   ]
  },
  {
   "cell_type": "code",
   "execution_count": 27,
   "metadata": {},
   "outputs": [
    {
     "name": "stdout",
     "output_type": "stream",
     "text": [
      "+-----+------+\n",
      "|   _1|    _2|\n",
      "+-----+------+\n",
      "|2.343|23.221|\n",
      "+-----+------+\n",
      "\n"
     ]
    }
   ],
   "source": [
    "df.show()"
   ]
  },
  {
   "cell_type": "code",
   "execution_count": 32,
   "metadata": {},
   "outputs": [
    {
     "ename": "AnalysisException",
     "evalue": "\"cannot resolve 'base64(`_1`)' due to data type mismatch: argument 1 requires binary type, however, '`_1`' is of double type.;;\\n'Project [base64(_1#232) AS base64(_1)#351]\\n+- LogicalRDD [_1#232, _2#233], false\\n\"",
     "output_type": "error",
     "traceback": [
      "\u001b[1;31m---------------------------------------------------------------------------\u001b[0m",
      "\u001b[1;31mPy4JJavaError\u001b[0m                             Traceback (most recent call last)",
      "\u001b[1;32mC:\\Spark\\python\\pyspark\\sql\\utils.py\u001b[0m in \u001b[0;36mdeco\u001b[1;34m(*a, **kw)\u001b[0m\n\u001b[0;32m     62\u001b[0m         \u001b[1;32mtry\u001b[0m\u001b[1;33m:\u001b[0m\u001b[1;33m\u001b[0m\u001b[1;33m\u001b[0m\u001b[0m\n\u001b[1;32m---> 63\u001b[1;33m             \u001b[1;32mreturn\u001b[0m \u001b[0mf\u001b[0m\u001b[1;33m(\u001b[0m\u001b[1;33m*\u001b[0m\u001b[0ma\u001b[0m\u001b[1;33m,\u001b[0m \u001b[1;33m**\u001b[0m\u001b[0mkw\u001b[0m\u001b[1;33m)\u001b[0m\u001b[1;33m\u001b[0m\u001b[1;33m\u001b[0m\u001b[0m\n\u001b[0m\u001b[0;32m     64\u001b[0m         \u001b[1;32mexcept\u001b[0m \u001b[0mpy4j\u001b[0m\u001b[1;33m.\u001b[0m\u001b[0mprotocol\u001b[0m\u001b[1;33m.\u001b[0m\u001b[0mPy4JJavaError\u001b[0m \u001b[1;32mas\u001b[0m \u001b[0me\u001b[0m\u001b[1;33m:\u001b[0m\u001b[1;33m\u001b[0m\u001b[1;33m\u001b[0m\u001b[0m\n",
      "\u001b[1;32mC:\\Spark\\python\\lib\\py4j-0.10.7-src.zip\\py4j\\protocol.py\u001b[0m in \u001b[0;36mget_return_value\u001b[1;34m(answer, gateway_client, target_id, name)\u001b[0m\n\u001b[0;32m    327\u001b[0m                     \u001b[1;34m\"An error occurred while calling {0}{1}{2}.\\n\"\u001b[0m\u001b[1;33m.\u001b[0m\u001b[1;33m\u001b[0m\u001b[1;33m\u001b[0m\u001b[0m\n\u001b[1;32m--> 328\u001b[1;33m                     format(target_id, \".\", name), value)\n\u001b[0m\u001b[0;32m    329\u001b[0m             \u001b[1;32melse\u001b[0m\u001b[1;33m:\u001b[0m\u001b[1;33m\u001b[0m\u001b[1;33m\u001b[0m\u001b[0m\n",
      "\u001b[1;31mPy4JJavaError\u001b[0m: An error occurred while calling o140.select.\n: org.apache.spark.sql.AnalysisException: cannot resolve 'base64(`_1`)' due to data type mismatch: argument 1 requires binary type, however, '`_1`' is of double type.;;\n'Project [base64(_1#232) AS base64(_1)#351]\n+- LogicalRDD [_1#232, _2#233], false\n\r\n\tat org.apache.spark.sql.catalyst.analysis.package$AnalysisErrorAt.failAnalysis(package.scala:42)\r\n\tat org.apache.spark.sql.catalyst.analysis.CheckAnalysis$$anonfun$checkAnalysis$1$$anonfun$apply$2.applyOrElse(CheckAnalysis.scala:97)\r\n\tat org.apache.spark.sql.catalyst.analysis.CheckAnalysis$$anonfun$checkAnalysis$1$$anonfun$apply$2.applyOrElse(CheckAnalysis.scala:89)\r\n\tat org.apache.spark.sql.catalyst.trees.TreeNode$$anonfun$transformUp$1.apply(TreeNode.scala:289)\r\n\tat org.apache.spark.sql.catalyst.trees.TreeNode$$anonfun$transformUp$1.apply(TreeNode.scala:289)\r\n\tat org.apache.spark.sql.catalyst.trees.CurrentOrigin$.withOrigin(TreeNode.scala:70)\r\n\tat org.apache.spark.sql.catalyst.trees.TreeNode.transformUp(TreeNode.scala:288)\r\n\tat org.apache.spark.sql.catalyst.trees.TreeNode$$anonfun$3.apply(TreeNode.scala:286)\r\n\tat org.apache.spark.sql.catalyst.trees.TreeNode$$anonfun$3.apply(TreeNode.scala:286)\r\n\tat org.apache.spark.sql.catalyst.trees.TreeNode$$anonfun$4.apply(TreeNode.scala:306)\r\n\tat org.apache.spark.sql.catalyst.trees.TreeNode.mapProductIterator(TreeNode.scala:187)\r\n\tat org.apache.spark.sql.catalyst.trees.TreeNode.mapChildren(TreeNode.scala:304)\r\n\tat org.apache.spark.sql.catalyst.trees.TreeNode.transformUp(TreeNode.scala:286)\r\n\tat org.apache.spark.sql.catalyst.plans.QueryPlan$$anonfun$transformExpressionsUp$1.apply(QueryPlan.scala:95)\r\n\tat org.apache.spark.sql.catalyst.plans.QueryPlan$$anonfun$transformExpressionsUp$1.apply(QueryPlan.scala:95)\r\n\tat org.apache.spark.sql.catalyst.plans.QueryPlan$$anonfun$1.apply(QueryPlan.scala:107)\r\n\tat org.apache.spark.sql.catalyst.plans.QueryPlan$$anonfun$1.apply(QueryPlan.scala:107)\r\n\tat org.apache.spark.sql.catalyst.trees.CurrentOrigin$.withOrigin(TreeNode.scala:70)\r\n\tat org.apache.spark.sql.catalyst.plans.QueryPlan.transformExpression$1(QueryPlan.scala:106)\r\n\tat org.apache.spark.sql.catalyst.plans.QueryPlan.org$apache$spark$sql$catalyst$plans$QueryPlan$$recursiveTransform$1(QueryPlan.scala:118)\r\n\tat org.apache.spark.sql.catalyst.plans.QueryPlan$$anonfun$org$apache$spark$sql$catalyst$plans$QueryPlan$$recursiveTransform$1$1.apply(QueryPlan.scala:122)\r\n\tat scala.collection.TraversableLike$$anonfun$map$1.apply(TraversableLike.scala:234)\r\n\tat scala.collection.TraversableLike$$anonfun$map$1.apply(TraversableLike.scala:234)\r\n\tat scala.collection.mutable.ResizableArray$class.foreach(ResizableArray.scala:59)\r\n\tat scala.collection.mutable.ArrayBuffer.foreach(ArrayBuffer.scala:48)\r\n\tat scala.collection.TraversableLike$class.map(TraversableLike.scala:234)\r\n\tat scala.collection.AbstractTraversable.map(Traversable.scala:104)\r\n\tat org.apache.spark.sql.catalyst.plans.QueryPlan.org$apache$spark$sql$catalyst$plans$QueryPlan$$recursiveTransform$1(QueryPlan.scala:122)\r\n\tat org.apache.spark.sql.catalyst.plans.QueryPlan$$anonfun$2.apply(QueryPlan.scala:127)\r\n\tat org.apache.spark.sql.catalyst.trees.TreeNode.mapProductIterator(TreeNode.scala:187)\r\n\tat org.apache.spark.sql.catalyst.plans.QueryPlan.mapExpressions(QueryPlan.scala:127)\r\n\tat org.apache.spark.sql.catalyst.plans.QueryPlan.transformExpressionsUp(QueryPlan.scala:95)\r\n\tat org.apache.spark.sql.catalyst.analysis.CheckAnalysis$$anonfun$checkAnalysis$1.apply(CheckAnalysis.scala:89)\r\n\tat org.apache.spark.sql.catalyst.analysis.CheckAnalysis$$anonfun$checkAnalysis$1.apply(CheckAnalysis.scala:84)\r\n\tat org.apache.spark.sql.catalyst.trees.TreeNode.foreachUp(TreeNode.scala:127)\r\n\tat org.apache.spark.sql.catalyst.analysis.CheckAnalysis$class.checkAnalysis(CheckAnalysis.scala:84)\r\n\tat org.apache.spark.sql.catalyst.analysis.Analyzer.checkAnalysis(Analyzer.scala:92)\r\n\tat org.apache.spark.sql.catalyst.analysis.Analyzer.executeAndCheck(Analyzer.scala:105)\r\n\tat org.apache.spark.sql.execution.QueryExecution.analyzed$lzycompute(QueryExecution.scala:57)\r\n\tat org.apache.spark.sql.execution.QueryExecution.analyzed(QueryExecution.scala:55)\r\n\tat org.apache.spark.sql.execution.QueryExecution.assertAnalyzed(QueryExecution.scala:47)\r\n\tat org.apache.spark.sql.Dataset$.ofRows(Dataset.scala:74)\r\n\tat org.apache.spark.sql.Dataset.org$apache$spark$sql$Dataset$$withPlan(Dataset.scala:3301)\r\n\tat org.apache.spark.sql.Dataset.select(Dataset.scala:1312)\r\n\tat sun.reflect.NativeMethodAccessorImpl.invoke0(Native Method)\r\n\tat sun.reflect.NativeMethodAccessorImpl.invoke(Unknown Source)\r\n\tat sun.reflect.DelegatingMethodAccessorImpl.invoke(Unknown Source)\r\n\tat java.lang.reflect.Method.invoke(Unknown Source)\r\n\tat py4j.reflection.MethodInvoker.invoke(MethodInvoker.java:244)\r\n\tat py4j.reflection.ReflectionEngine.invoke(ReflectionEngine.java:357)\r\n\tat py4j.Gateway.invoke(Gateway.java:282)\r\n\tat py4j.commands.AbstractCommand.invokeMethod(AbstractCommand.java:132)\r\n\tat py4j.commands.CallCommand.execute(CallCommand.java:79)\r\n\tat py4j.GatewayConnection.run(GatewayConnection.java:238)\r\n\tat java.lang.Thread.run(Unknown Source)\r\n",
      "\nDuring handling of the above exception, another exception occurred:\n",
      "\u001b[1;31mAnalysisException\u001b[0m                         Traceback (most recent call last)",
      "\u001b[1;32m<ipython-input-32-b16e29b33fc5>\u001b[0m in \u001b[0;36m<module>\u001b[1;34m\u001b[0m\n\u001b[1;32m----> 1\u001b[1;33m \u001b[0mdf\u001b[0m\u001b[1;33m.\u001b[0m\u001b[0mselect\u001b[0m\u001b[1;33m(\u001b[0m\u001b[0mf\u001b[0m\u001b[1;33m.\u001b[0m\u001b[0mbase64\u001b[0m\u001b[1;33m(\u001b[0m\u001b[0mdf\u001b[0m\u001b[1;33m.\u001b[0m\u001b[0m_1\u001b[0m\u001b[1;33m)\u001b[0m\u001b[1;33m)\u001b[0m\u001b[1;33m.\u001b[0m\u001b[0mshow\u001b[0m\u001b[1;33m(\u001b[0m\u001b[1;33m)\u001b[0m\u001b[1;33m\u001b[0m\u001b[1;33m\u001b[0m\u001b[0m\n\u001b[0m",
      "\u001b[1;32mC:\\Spark\\python\\pyspark\\sql\\dataframe.py\u001b[0m in \u001b[0;36mselect\u001b[1;34m(self, *cols)\u001b[0m\n\u001b[0;32m   1200\u001b[0m         \u001b[1;33m[\u001b[0m\u001b[0mRow\u001b[0m\u001b[1;33m(\u001b[0m\u001b[0mname\u001b[0m\u001b[1;33m=\u001b[0m\u001b[1;34mu'Alice'\u001b[0m\u001b[1;33m,\u001b[0m \u001b[0mage\u001b[0m\u001b[1;33m=\u001b[0m\u001b[1;36m12\u001b[0m\u001b[1;33m)\u001b[0m\u001b[1;33m,\u001b[0m \u001b[0mRow\u001b[0m\u001b[1;33m(\u001b[0m\u001b[0mname\u001b[0m\u001b[1;33m=\u001b[0m\u001b[1;34mu'Bob'\u001b[0m\u001b[1;33m,\u001b[0m \u001b[0mage\u001b[0m\u001b[1;33m=\u001b[0m\u001b[1;36m15\u001b[0m\u001b[1;33m)\u001b[0m\u001b[1;33m]\u001b[0m\u001b[1;33m\u001b[0m\u001b[1;33m\u001b[0m\u001b[0m\n\u001b[0;32m   1201\u001b[0m         \"\"\"\n\u001b[1;32m-> 1202\u001b[1;33m         \u001b[0mjdf\u001b[0m \u001b[1;33m=\u001b[0m \u001b[0mself\u001b[0m\u001b[1;33m.\u001b[0m\u001b[0m_jdf\u001b[0m\u001b[1;33m.\u001b[0m\u001b[0mselect\u001b[0m\u001b[1;33m(\u001b[0m\u001b[0mself\u001b[0m\u001b[1;33m.\u001b[0m\u001b[0m_jcols\u001b[0m\u001b[1;33m(\u001b[0m\u001b[1;33m*\u001b[0m\u001b[0mcols\u001b[0m\u001b[1;33m)\u001b[0m\u001b[1;33m)\u001b[0m\u001b[1;33m\u001b[0m\u001b[1;33m\u001b[0m\u001b[0m\n\u001b[0m\u001b[0;32m   1203\u001b[0m         \u001b[1;32mreturn\u001b[0m \u001b[0mDataFrame\u001b[0m\u001b[1;33m(\u001b[0m\u001b[0mjdf\u001b[0m\u001b[1;33m,\u001b[0m \u001b[0mself\u001b[0m\u001b[1;33m.\u001b[0m\u001b[0msql_ctx\u001b[0m\u001b[1;33m)\u001b[0m\u001b[1;33m\u001b[0m\u001b[1;33m\u001b[0m\u001b[0m\n\u001b[0;32m   1204\u001b[0m \u001b[1;33m\u001b[0m\u001b[0m\n",
      "\u001b[1;32mC:\\Spark\\python\\lib\\py4j-0.10.7-src.zip\\py4j\\java_gateway.py\u001b[0m in \u001b[0;36m__call__\u001b[1;34m(self, *args)\u001b[0m\n\u001b[0;32m   1255\u001b[0m         \u001b[0manswer\u001b[0m \u001b[1;33m=\u001b[0m \u001b[0mself\u001b[0m\u001b[1;33m.\u001b[0m\u001b[0mgateway_client\u001b[0m\u001b[1;33m.\u001b[0m\u001b[0msend_command\u001b[0m\u001b[1;33m(\u001b[0m\u001b[0mcommand\u001b[0m\u001b[1;33m)\u001b[0m\u001b[1;33m\u001b[0m\u001b[1;33m\u001b[0m\u001b[0m\n\u001b[0;32m   1256\u001b[0m         return_value = get_return_value(\n\u001b[1;32m-> 1257\u001b[1;33m             answer, self.gateway_client, self.target_id, self.name)\n\u001b[0m\u001b[0;32m   1258\u001b[0m \u001b[1;33m\u001b[0m\u001b[0m\n\u001b[0;32m   1259\u001b[0m         \u001b[1;32mfor\u001b[0m \u001b[0mtemp_arg\u001b[0m \u001b[1;32min\u001b[0m \u001b[0mtemp_args\u001b[0m\u001b[1;33m:\u001b[0m\u001b[1;33m\u001b[0m\u001b[1;33m\u001b[0m\u001b[0m\n",
      "\u001b[1;32mC:\\Spark\\python\\pyspark\\sql\\utils.py\u001b[0m in \u001b[0;36mdeco\u001b[1;34m(*a, **kw)\u001b[0m\n\u001b[0;32m     67\u001b[0m                                              e.java_exception.getStackTrace()))\n\u001b[0;32m     68\u001b[0m             \u001b[1;32mif\u001b[0m \u001b[0ms\u001b[0m\u001b[1;33m.\u001b[0m\u001b[0mstartswith\u001b[0m\u001b[1;33m(\u001b[0m\u001b[1;34m'org.apache.spark.sql.AnalysisException: '\u001b[0m\u001b[1;33m)\u001b[0m\u001b[1;33m:\u001b[0m\u001b[1;33m\u001b[0m\u001b[1;33m\u001b[0m\u001b[0m\n\u001b[1;32m---> 69\u001b[1;33m                 \u001b[1;32mraise\u001b[0m \u001b[0mAnalysisException\u001b[0m\u001b[1;33m(\u001b[0m\u001b[0ms\u001b[0m\u001b[1;33m.\u001b[0m\u001b[0msplit\u001b[0m\u001b[1;33m(\u001b[0m\u001b[1;34m': '\u001b[0m\u001b[1;33m,\u001b[0m \u001b[1;36m1\u001b[0m\u001b[1;33m)\u001b[0m\u001b[1;33m[\u001b[0m\u001b[1;36m1\u001b[0m\u001b[1;33m]\u001b[0m\u001b[1;33m,\u001b[0m \u001b[0mstackTrace\u001b[0m\u001b[1;33m)\u001b[0m\u001b[1;33m\u001b[0m\u001b[1;33m\u001b[0m\u001b[0m\n\u001b[0m\u001b[0;32m     70\u001b[0m             \u001b[1;32mif\u001b[0m \u001b[0ms\u001b[0m\u001b[1;33m.\u001b[0m\u001b[0mstartswith\u001b[0m\u001b[1;33m(\u001b[0m\u001b[1;34m'org.apache.spark.sql.catalyst.analysis'\u001b[0m\u001b[1;33m)\u001b[0m\u001b[1;33m:\u001b[0m\u001b[1;33m\u001b[0m\u001b[1;33m\u001b[0m\u001b[0m\n\u001b[0;32m     71\u001b[0m                 \u001b[1;32mraise\u001b[0m \u001b[0mAnalysisException\u001b[0m\u001b[1;33m(\u001b[0m\u001b[0ms\u001b[0m\u001b[1;33m.\u001b[0m\u001b[0msplit\u001b[0m\u001b[1;33m(\u001b[0m\u001b[1;34m': '\u001b[0m\u001b[1;33m,\u001b[0m \u001b[1;36m1\u001b[0m\u001b[1;33m)\u001b[0m\u001b[1;33m[\u001b[0m\u001b[1;36m1\u001b[0m\u001b[1;33m]\u001b[0m\u001b[1;33m,\u001b[0m \u001b[0mstackTrace\u001b[0m\u001b[1;33m)\u001b[0m\u001b[1;33m\u001b[0m\u001b[1;33m\u001b[0m\u001b[0m\n",
      "\u001b[1;31mAnalysisException\u001b[0m: \"cannot resolve 'base64(`_1`)' due to data type mismatch: argument 1 requires binary type, however, '`_1`' is of double type.;;\\n'Project [base64(_1#232) AS base64(_1)#351]\\n+- LogicalRDD [_1#232, _2#233], false\\n\""
     ]
    }
   ],
   "source": [
    "df.select(f.base64(df._1)).show()"
   ]
  },
  {
   "cell_type": "code",
   "execution_count": 29,
   "metadata": {},
   "outputs": [
    {
     "data": {
      "text/plain": [
       "DataFrame[summary: string, _1: string, _2: string]"
      ]
     },
     "execution_count": 29,
     "metadata": {},
     "output_type": "execute_result"
    }
   ],
   "source": [
    "df.describe()"
   ]
  },
  {
   "cell_type": "code",
   "execution_count": null,
   "metadata": {},
   "outputs": [],
   "source": [
    "df.withColumn('_1','_1' )"
   ]
  }
 ],
 "metadata": {
  "kernelspec": {
   "display_name": "Python 3",
   "language": "python",
   "name": "python3"
  },
  "language_info": {
   "codemirror_mode": {
    "name": "ipython",
    "version": 3
   },
   "file_extension": ".py",
   "mimetype": "text/x-python",
   "name": "python",
   "nbconvert_exporter": "python",
   "pygments_lexer": "ipython3",
   "version": "3.7.1"
  }
 },
 "nbformat": 4,
 "nbformat_minor": 2
}
