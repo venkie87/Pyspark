{
 "cells": [
  {
   "cell_type": "code",
   "execution_count": 21,
   "metadata": {},
   "outputs": [],
   "source": [
    "# DataFrame is like table, Hence following things to be considered while creating DataFrame.\n",
    "# in DB , table name, column name, column datatypes\n",
    "# in Dataframe, Dataframe name,schema name,schema datatype\n",
    "#StructField \n",
    "#StructType\n",
    "# entry point is bring till row rdd\n",
    "from pyspark.sql.types import *\n",
    "rdd=sc.parallelize([('a',1),('b',2),('c',3),('d',4)])  # two columns \n",
    "colx=StructField(\"col1\",StringType(),True)\n",
    "coly=StructField(\"col2\",IntegerType(),True)\n",
    "schema1=StructType([colx,coly])\n",
    "\n",
    "df=spark.createDataFrame(rdd,schema=schema1)\n",
    "\n",
    "# bring it to Row() option\n",
    "# create structType and StructField"
   ]
  },
  {
   "cell_type": "code",
   "execution_count": 27,
   "metadata": {},
   "outputs": [
    {
     "name": "stdout",
     "output_type": "stream",
     "text": [
      "+----+----+\n",
      "|col1|col2|\n",
      "+----+----+\n",
      "|   a|   1|\n",
      "|   b|   2|\n",
      "|   c|   3|\n",
      "|   d|   4|\n",
      "+----+----+\n",
      "\n"
     ]
    }
   ],
   "source": [
    "df.show()"
   ]
  },
  {
   "cell_type": "code",
   "execution_count": 28,
   "metadata": {},
   "outputs": [
    {
     "name": "stdout",
     "output_type": "stream",
     "text": [
      "root\n",
      " |-- col1: string (nullable = true)\n",
      " |-- col2: integer (nullable = true)\n",
      "\n"
     ]
    }
   ],
   "source": [
    "df.printSchema()"
   ]
  },
  {
   "cell_type": "code",
   "execution_count": 29,
   "metadata": {},
   "outputs": [
    {
     "data": {
      "text/plain": [
       "['col1', 'col2']"
      ]
     },
     "execution_count": 29,
     "metadata": {},
     "output_type": "execute_result"
    }
   ],
   "source": [
    "df.columns"
   ]
  },
  {
   "cell_type": "code",
   "execution_count": 39,
   "metadata": {},
   "outputs": [
    {
     "name": "stdout",
     "output_type": "stream",
     "text": [
      "+----+----+\n",
      "|col1|col2|\n",
      "+----+----+\n",
      "|   a|   1|\n",
      "|   b|   2|\n",
      "|   c|   3|\n",
      "|   d|   4|\n",
      "+----+----+\n",
      "\n"
     ]
    }
   ],
   "source": [
    "df.show()"
   ]
  },
  {
   "cell_type": "code",
   "execution_count": 41,
   "metadata": {},
   "outputs": [
    {
     "name": "stdout",
     "output_type": "stream",
     "text": [
      "+----+\n",
      "|col1|\n",
      "+----+\n",
      "|   a|\n",
      "|   b|\n",
      "|   c|\n",
      "|   d|\n",
      "+----+\n",
      "\n"
     ]
    }
   ],
   "source": [
    "df.select('col1').show()"
   ]
  },
  {
   "cell_type": "code",
   "execution_count": 44,
   "metadata": {},
   "outputs": [
    {
     "name": "stdout",
     "output_type": "stream",
     "text": [
      "+----+------+\n",
      "|col1|number|\n",
      "+----+------+\n",
      "|   a|     1|\n",
      "|   b|     2|\n",
      "|   c|     3|\n",
      "|   d|     4|\n",
      "+----+------+\n",
      "\n"
     ]
    }
   ],
   "source": [
    "df.withColumnRenamed('col2','number').show()"
   ]
  },
  {
   "cell_type": "code",
   "execution_count": 54,
   "metadata": {},
   "outputs": [
    {
     "name": "stdout",
     "output_type": "stream",
     "text": [
      "root\n",
      " |-- col1: string (nullable = true)\n",
      " |-- col2: float (nullable = true)\n",
      "\n",
      "+----+----+\n",
      "|col1|col2|\n",
      "+----+----+\n",
      "|   a| 1.0|\n",
      "|   b| 2.0|\n",
      "|   c| 3.0|\n",
      "|   d| 4.0|\n",
      "+----+----+\n",
      "\n"
     ]
    }
   ],
   "source": [
    "dff1=df.withColumn('col2',df['col2'].cast('float'))\n",
    "dff1.printSchema()\n",
    "dff1.show()"
   ]
  },
  {
   "cell_type": "code",
   "execution_count": 68,
   "metadata": {},
   "outputs": [
    {
     "name": "stdout",
     "output_type": "stream",
     "text": [
      "+----+----+\n",
      "|col1|col2|\n",
      "+----+----+\n",
      "|   a|   1|\n",
      "|   b|   2|\n",
      "|   c|   3|\n",
      "|   d|   4|\n",
      "+----+----+\n",
      "\n"
     ]
    }
   ],
   "source": [
    "df.show()"
   ]
  },
  {
   "cell_type": "code",
   "execution_count": 82,
   "metadata": {},
   "outputs": [
    {
     "name": "stdout",
     "output_type": "stream",
     "text": [
      "+----+----+\n",
      "|col1|col2|\n",
      "+----+----+\n",
      "|   b|   2|\n",
      "|   c|   3|\n",
      "+----+----+\n",
      "\n"
     ]
    }
   ],
   "source": [
    "df.filter((df.col2 == 3) | (df.col2 == 2)).show()"
   ]
  },
  {
   "cell_type": "code",
   "execution_count": 84,
   "metadata": {},
   "outputs": [
    {
     "name": "stdout",
     "output_type": "stream",
     "text": [
      "+-------+----+------------------+\n",
      "|summary|col1|              col2|\n",
      "+-------+----+------------------+\n",
      "|  count|   4|                 4|\n",
      "|   mean|null|               2.5|\n",
      "| stddev|null|1.2909944487358056|\n",
      "|    min|   a|                 1|\n",
      "|    max|   d|                 4|\n",
      "+-------+----+------------------+\n",
      "\n"
     ]
    }
   ],
   "source": [
    "df.describe().show()"
   ]
  },
  {
   "cell_type": "code",
   "execution_count": null,
   "metadata": {},
   "outputs": [],
   "source": [
    "df.agg(countDistinct(\"age\", \"name\").alias('c')).collect()\n",
    "[Row(c=2)]"
   ]
  },
  {
   "cell_type": "code",
   "execution_count": 88,
   "metadata": {},
   "outputs": [
    {
     "name": "stdout",
     "output_type": "stream",
     "text": [
      "+-----+\n",
      "|count|\n",
      "+-----+\n",
      "|    4|\n",
      "+-----+\n",
      "\n"
     ]
    }
   ],
   "source": [
    "df.agg(countDistinct(\"col1\").alias(\"count\")).show()"
   ]
  },
  {
   "cell_type": "code",
   "execution_count": 89,
   "metadata": {},
   "outputs": [
    {
     "name": "stdout",
     "output_type": "stream",
     "text": [
      "+---------+\n",
      "|count_sum|\n",
      "+---------+\n",
      "|       10|\n",
      "+---------+\n",
      "\n"
     ]
    }
   ],
   "source": [
    "df.agg(sumDistinct(\"col2\").alias(\"count_sum\")).show()"
   ]
  },
  {
   "cell_type": "code",
   "execution_count": 110,
   "metadata": {},
   "outputs": [],
   "source": [
    "n_rdd=sc.parallelize([Row(col1 = 2),Row(col1=1),Row(col1=3),Row(col1=3),Row(col1=9),Row(col1=9)])\n",
    "n_rdd.collect()\n",
    "n_df=sqlContext.createDataFrame(n_rdd)"
   ]
  },
  {
   "cell_type": "code",
   "execution_count": 115,
   "metadata": {},
   "outputs": [
    {
     "data": {
      "text/plain": [
       "6"
      ]
     },
     "execution_count": 115,
     "metadata": {},
     "output_type": "execute_result"
    }
   ],
   "source": [
    "n_df.count()"
   ]
  },
  {
   "cell_type": "code",
   "execution_count": 116,
   "metadata": {},
   "outputs": [
    {
     "name": "stdout",
     "output_type": "stream",
     "text": [
      "+------------+\n",
      "|sum_distinct|\n",
      "+------------+\n",
      "|          15|\n",
      "+------------+\n",
      "\n"
     ]
    }
   ],
   "source": [
    "n_df.agg(sumDistinct(\"col1\").alias(\"sum_distinct\")).show()  #1five"
   ]
  },
  {
   "cell_type": "code",
   "execution_count": 118,
   "metadata": {},
   "outputs": [
    {
     "name": "stdout",
     "output_type": "stream",
     "text": [
      "+---------+\n",
      "|sum(col1)|\n",
      "+---------+\n",
      "|       27|\n",
      "+---------+\n",
      "\n"
     ]
    }
   ],
   "source": [
    "n_df.agg(sum(\"col1\")).show()"
   ]
  },
  {
   "cell_type": "code",
   "execution_count": 119,
   "metadata": {},
   "outputs": [
    {
     "name": "stdout",
     "output_type": "stream",
     "text": [
      "+---------+\n",
      "|max(col1)|\n",
      "+---------+\n",
      "|        9|\n",
      "+---------+\n",
      "\n"
     ]
    }
   ],
   "source": [
    "n_df.agg(max(\"col1\")).show()"
   ]
  },
  {
   "cell_type": "code",
   "execution_count": 121,
   "metadata": {},
   "outputs": [
    {
     "data": {
      "text/plain": [
       "<pyspark.sql.group.GroupedData at 0x94526e12e8>"
      ]
     },
     "execution_count": 121,
     "metadata": {},
     "output_type": "execute_result"
    }
   ],
   "source": [
    "n_df.groupby(\"col1\")"
   ]
  },
  {
   "cell_type": "code",
   "execution_count": 123,
   "metadata": {},
   "outputs": [
    {
     "name": "stdout",
     "output_type": "stream",
     "text": [
      "+----+-----+\n",
      "|col1|count|\n",
      "+----+-----+\n",
      "|   9|    2|\n",
      "|   1|    1|\n",
      "|   3|    2|\n",
      "|   2|    1|\n",
      "+----+-----+\n",
      "\n"
     ]
    }
   ],
   "source": [
    "n_df.groupby(\"col1\").count().show()"
   ]
  },
  {
   "cell_type": "code",
   "execution_count": 124,
   "metadata": {},
   "outputs": [
    {
     "name": "stdout",
     "output_type": "stream",
     "text": [
      "+----+---------+\n",
      "|col1|sum(col1)|\n",
      "+----+---------+\n",
      "|   9|       18|\n",
      "|   1|        1|\n",
      "|   3|        6|\n",
      "|   2|        2|\n",
      "+----+---------+\n",
      "\n"
     ]
    }
   ],
   "source": [
    "n_df.groupby(\"col1\").sum().show()"
   ]
  },
  {
   "cell_type": "code",
   "execution_count": 175,
   "metadata": {},
   "outputs": [
    {
     "name": "stdout",
     "output_type": "stream",
     "text": [
      "root\n",
      " |-- _c0: integer (nullable = true)\n",
      " |-- _c1: string (nullable = true)\n",
      " |-- _c2: double (nullable = true)\n",
      " |-- _c3: string (nullable = true)\n",
      " |-- _c4: double (nullable = true)\n",
      " |-- _c5: string (nullable = true)\n",
      " |-- _c6: string (nullable = true)\n",
      " |-- _c7: string (nullable = true)\n",
      " |-- _c8: string (nullable = true)\n",
      " |-- _c9: string (nullable = true)\n",
      " |-- _c10: double (nullable = true)\n",
      " |-- _c11: double (nullable = true)\n",
      " |-- _c12: double (nullable = true)\n",
      " |-- _c13: string (nullable = true)\n",
      " |-- _c14: string (nullable = true)\n",
      "\n"
     ]
    }
   ],
   "source": [
    "file_header=['age','workclass','fnlwgt','education','Education-num','Marital-status','occupation','relationship ',\n",
    "             'race','sex','Capital-gain ','Capital-loss ',\n",
    "             'Hours-per-week','Native-country','Class(income)']\n",
    "o_df=spark.read.csv(\"C:\\\\SparkCourse\\\\test_files\\\\sample_adult.csv\",header=False,inferSchema=True)\n",
    "o_df.printSchema()"
   ]
  },
  {
   "cell_type": "code",
   "execution_count": 176,
   "metadata": {},
   "outputs": [
    {
     "name": "stdout",
     "output_type": "stream",
     "text": [
      "root\n",
      " |-- age: integer (nullable = true)\n",
      " |-- workclass: string (nullable = true)\n",
      " |-- fnlwgt: double (nullable = true)\n",
      " |-- education: string (nullable = true)\n",
      " |-- Education-num: double (nullable = true)\n",
      " |-- Marital-status: string (nullable = true)\n",
      " |-- occupation: string (nullable = true)\n",
      " |-- relationship : string (nullable = true)\n",
      " |-- race: string (nullable = true)\n",
      " |-- sex: string (nullable = true)\n",
      " |-- Capital-gain : double (nullable = true)\n",
      " |-- Capital-loss : double (nullable = true)\n",
      " |-- Hours-per-week: double (nullable = true)\n",
      " |-- Native-country: string (nullable = true)\n",
      " |-- Class(income): string (nullable = true)\n",
      "\n"
     ]
    }
   ],
   "source": [
    "\n",
    "#rdd_adv=rdd_ad.withColumnRenamed(\"_c0\",\"age\")\n",
    "df1f=rdd_adv.toDF(*file_header)\n",
    "df1f.printSchema()"
   ]
  },
  {
   "cell_type": "code",
   "execution_count": 148,
   "metadata": {},
   "outputs": [
    {
     "name": "stdout",
     "output_type": "stream",
     "text": [
      "('_c0', 'age')\n",
      "('_c1', 'workclass')\n",
      "('_c2', 'fnlwgt')\n",
      "('_c3', 'education')\n",
      "('_c4', 'Education-num')\n",
      "('_c5', 'Marital-status')\n",
      "('_c6', 'occupation')\n",
      "('_c7', 'relationship ')\n",
      "('_c8', 'race')\n",
      "('_c9', 'sex')\n",
      "('_c10', 'Capital-gain ')\n",
      "('_c11', 'Capital-loss ')\n",
      "('_c12', 'Hours-per-week')\n",
      "('_c13', 'Native-country')\n",
      "('_c14', 'Class(income)')\n"
     ]
    }
   ],
   "source": [
    "for i in range(15):   print((old_name[i],file_header[i]))"
   ]
  },
  {
   "cell_type": "code",
   "execution_count": null,
   "metadata": {},
   "outputs": [],
   "source": []
  }
 ],
 "metadata": {
  "kernelspec": {
   "display_name": "Python 3",
   "language": "python",
   "name": "python3"
  },
  "language_info": {
   "codemirror_mode": {
    "name": "ipython",
    "version": 3
   },
   "file_extension": ".py",
   "mimetype": "text/x-python",
   "name": "python",
   "nbconvert_exporter": "python",
   "pygments_lexer": "ipython3",
   "version": "3.7.1"
  }
 },
 "nbformat": 4,
 "nbformat_minor": 2
}
