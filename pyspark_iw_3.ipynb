{
 "cells": [
  {
   "cell_type": "code",
   "execution_count": 4,
   "metadata": {},
   "outputs": [
    {
     "name": "stdout",
     "output_type": "stream",
     "text": [
      "+---+---+\n",
      "|  a|  b|\n",
      "+---+---+\n",
      "|  1|  1|\n",
      "|  1|  1|\n",
      "|  1|  1|\n",
      "+---+---+\n",
      "\n"
     ]
    }
   ],
   "source": [
    "from pyspark.sql import Row\n",
    "l=[Row(a=1,b=1),Row(a=1,b=1),Row(a=1,b=1)]\n",
    "df=spark.createDataFrame(l)\n",
    "df.show()"
   ]
  },
  {
   "cell_type": "code",
   "execution_count": 5,
   "metadata": {},
   "outputs": [
    {
     "name": "stdout",
     "output_type": "stream",
     "text": [
      "+---+---+\n",
      "|  a|  b|\n",
      "+---+---+\n",
      "|  1|  1|\n",
      "|  1|  1|\n",
      "+---+---+\n",
      "\n"
     ]
    }
   ],
   "source": [
    "l=[Row(a=1,b=1),Row(a=1,b=1)]\n",
    "df1=spark.createDataFrame(l)\n",
    "df1.show()"
   ]
  },
  {
   "cell_type": "code",
   "execution_count": 7,
   "metadata": {},
   "outputs": [
    {
     "name": "stdout",
     "output_type": "stream",
     "text": [
      "+---+---+---+---+\n",
      "|  a|  b|  a|  b|\n",
      "+---+---+---+---+\n",
      "|  1|  1|  1|  1|\n",
      "|  1|  1|  1|  1|\n",
      "|  1|  1|  1|  1|\n",
      "|  1|  1|  1|  1|\n",
      "|  1|  1|  1|  1|\n",
      "|  1|  1|  1|  1|\n",
      "+---+---+---+---+\n",
      "\n"
     ]
    }
   ],
   "source": [
    "df.join(df1,df.a == df1.a).show()"
   ]
  },
  {
   "cell_type": "code",
   "execution_count": 14,
   "metadata": {},
   "outputs": [
    {
     "name": "stdout",
     "output_type": "stream",
     "text": [
      "+---+---+---+---+\n",
      "|  a|  b|  a|  b|\n",
      "+---+---+---+---+\n",
      "|  1|  1|  1|  1|\n",
      "|  1|  1|  1|  1|\n",
      "|  1|  1|  1|  1|\n",
      "|  1|  1|  1|  1|\n",
      "|  1|  1|  1|  1|\n",
      "|  1|  1|  1|  1|\n",
      "+---+---+---+---+\n",
      "\n"
     ]
    }
   ],
   "source": [
    "#from pyspark.sql import functions.join\n",
    "df.join(df1,df.a == df1.a,'left_outer').show()"
   ]
  },
  {
   "cell_type": "code",
   "execution_count": 15,
   "metadata": {},
   "outputs": [
    {
     "name": "stdout",
     "output_type": "stream",
     "text": [
      "+---+------+\n",
      "|emp|  name|\n",
      "+---+------+\n",
      "|  1|venkat|\n",
      "|  2|ramesh|\n",
      "|  3| kumar|\n",
      "+---+------+\n",
      "\n"
     ]
    }
   ],
   "source": [
    "l=[Row(emp=1,name='venkat'),Row(emp=2,name='ramesh'),Row(emp=3,name='kumar')]\n",
    "df_emp=spark.createDataFrame(l)\n",
    "df_emp.show()"
   ]
  },
  {
   "cell_type": "code",
   "execution_count": 16,
   "metadata": {},
   "outputs": [
    {
     "name": "stdout",
     "output_type": "stream",
     "text": [
      "+---+---+\n",
      "|emp|sal|\n",
      "+---+---+\n",
      "|  1|100|\n",
      "|  2|200|\n",
      "+---+---+\n",
      "\n"
     ]
    }
   ],
   "source": [
    "l=[Row(emp=1,sal=100),Row(emp=2,sal=200)]\n",
    "df_sal=spark.createDataFrame(l)\n",
    "df_sal.show()"
   ]
  },
  {
   "cell_type": "code",
   "execution_count": 24,
   "metadata": {},
   "outputs": [
    {
     "name": "stdout",
     "output_type": "stream",
     "text": [
      "+---+------+----+----+\n",
      "|emp|  name| emp| sal|\n",
      "+---+------+----+----+\n",
      "|  1|venkat|   1| 100|\n",
      "|  3| kumar|null|null|\n",
      "|  2|ramesh|   2| 200|\n",
      "+---+------+----+----+\n",
      "\n"
     ]
    }
   ],
   "source": [
    "final_df=df_emp.join(df_sal,df_emp.emp == df_sal.emp,'left_outer')\n",
    "final_df.show()"
   ]
  },
  {
   "cell_type": "code",
   "execution_count": 29,
   "metadata": {},
   "outputs": [
    {
     "name": "stdout",
     "output_type": "stream",
     "text": [
      "+---+------+----+----+\n",
      "|emp|  name| emp| sal|\n",
      "+---+------+----+----+\n",
      "|  1|venkat|   1| 100|\n",
      "|  3| kumar|null|null|\n",
      "|  2|ramesh|   2| 200|\n",
      "+---+------+----+----+\n",
      "\n"
     ]
    }
   ],
   "source": [
    "final_df.select('*').show()  #All columns selected"
   ]
  },
  {
   "cell_type": "code",
   "execution_count": 30,
   "metadata": {},
   "outputs": [
    {
     "name": "stdout",
     "output_type": "stream",
     "text": [
      "++\n",
      "||\n",
      "++\n",
      "||\n",
      "||\n",
      "||\n",
      "++\n",
      "\n"
     ]
    }
   ],
   "source": [
    "#No columns selected\n",
    "final_df.select().show()"
   ]
  },
  {
   "cell_type": "code",
   "execution_count": 45,
   "metadata": {},
   "outputs": [
    {
     "name": "stdout",
     "output_type": "stream",
     "text": [
      "+---+------+----+\n",
      "|emp|  name| sal|\n",
      "+---+------+----+\n",
      "|  1|venkat| 100|\n",
      "|  2|ramesh| 200|\n",
      "|  3| kumar|null|\n",
      "+---+------+----+\n",
      "\n"
     ]
    }
   ],
   "source": [
    "#Important on defining alias , or ambigus column name\n",
    "# used many function like alias , orderBy, join\n",
    "# which can be used as lookup\n",
    "# Both equi and non-equi join can be used\n",
    "\n",
    "final_df=df_emp.alias('f_tb').join(df_sal.select('emp','sal').alias('s_tb'),df_emp.emp == df_sal.emp,'left_outer'). \\\n",
    "select('f_tb.emp','f_tb.name','s_tb.sal').orderBy('f_tb.emp')\n",
    "final_df.show()"
   ]
  },
  {
   "cell_type": "code",
   "execution_count": 64,
   "metadata": {},
   "outputs": [
    {
     "name": "stdout",
     "output_type": "stream",
     "text": [
      "+---+------+----+\n",
      "|emp|  name| sal|\n",
      "+---+------+----+\n",
      "|  1|venkat|null|\n",
      "|  2|ramesh| 200|\n",
      "|  3| kumar|null|\n",
      "+---+------+----+\n",
      "\n"
     ]
    }
   ],
   "source": [
    "#Lookup override option - filtering only the sal 200 in it.\n",
    "final_df=df_emp.alias('f_tb').join(df_sal.select('emp','sal').filter(\"sal == '200'\").alias('s_tb'),df_emp.emp == df_sal.emp,'left_outer'). \\\n",
    "select('f_tb.emp','f_tb.name','s_tb.sal').orderBy('f_tb.emp')\n",
    "final_df.show()"
   ]
  },
  {
   "cell_type": "code",
   "execution_count": 65,
   "metadata": {},
   "outputs": [],
   "source": [
    "#Router\n",
    "# having more than filter would work"
   ]
  },
  {
   "cell_type": "code",
   "execution_count": 71,
   "metadata": {},
   "outputs": [
    {
     "name": "stdout",
     "output_type": "stream",
     "text": [
      "+---+------+----+-----------+\n",
      "|emp|  name| sal|          T|\n",
      "+---+------+----+-----------+\n",
      "|  1|venkat|null|          0|\n",
      "|  2|ramesh| 200| 8589934592|\n",
      "|  3| kumar|null|17179869184|\n",
      "+---+------+----+-----------+\n",
      "\n"
     ]
    }
   ],
   "source": [
    "#Generating sequence number\n",
    "from pyspark.sql.functions import monotonically_increasing_id\n",
    "final_df.withColumn('T',monotonically_increasing_id()).show()\n",
    "# But this is not a standred sequence number"
   ]
  },
  {
   "cell_type": "code",
   "execution_count": 83,
   "metadata": {},
   "outputs": [
    {
     "name": "stdout",
     "output_type": "stream",
     "text": [
      "+---+------+----+---+\n",
      "|emp|  name| sal|  T|\n",
      "+---+------+----+---+\n",
      "|  1|venkat|null|  0|\n",
      "|  2|ramesh| 200|  0|\n",
      "|  3| kumar|null|  0|\n",
      "+---+------+----+---+\n",
      "\n"
     ]
    }
   ],
   "source": [
    "#Generating sequence number\n",
    "from pyspark.sql.types  import *\n",
    "from pyspark.sql.functions import lit\n",
    "final_df=final_df.withColumn(\"T\",lit(0)).show()"
   ]
  },
  {
   "cell_type": "code",
   "execution_count": 84,
   "metadata": {},
   "outputs": [
    {
     "ename": "AttributeError",
     "evalue": "'NoneType' object has no attribute 'map'",
     "output_type": "error",
     "traceback": [
      "\u001b[1;31m---------------------------------------------------------------------------\u001b[0m",
      "\u001b[1;31mAttributeError\u001b[0m                            Traceback (most recent call last)",
      "\u001b[1;32m<ipython-input-84-2d3675e823d9>\u001b[0m in \u001b[0;36m<module>\u001b[1;34m\u001b[0m\n\u001b[1;32m----> 1\u001b[1;33m \u001b[0mfinal_df\u001b[0m\u001b[1;33m.\u001b[0m\u001b[0mmap\u001b[0m\u001b[1;33m(\u001b[0m\u001b[1;32mlambda\u001b[0m \u001b[0mx\u001b[0m \u001b[1;33m:\u001b[0m \u001b[0mfinal_df\u001b[0m\u001b[1;33m.\u001b[0m\u001b[0mT\u001b[0m \u001b[1;33m+\u001b[0m \u001b[1;36m1\u001b[0m \u001b[1;33m)\u001b[0m\u001b[1;33m\u001b[0m\u001b[1;33m\u001b[0m\u001b[0m\n\u001b[0m",
      "\u001b[1;31mAttributeError\u001b[0m: 'NoneType' object has no attribute 'map'"
     ]
    }
   ],
   "source": [
    "final_df.map(lambda x : final_df.T + 1 )"
   ]
  },
  {
   "cell_type": "code",
   "execution_count": 88,
   "metadata": {},
   "outputs": [
    {
     "name": "stdout",
     "output_type": "stream",
     "text": [
      "0\n",
      "1\n",
      "2\n",
      "3\n",
      "4\n"
     ]
    }
   ],
   "source": [
    "for i in range(len('hello')):\n",
    "    print(i)"
   ]
  },
  {
   "cell_type": "code",
   "execution_count": 94,
   "metadata": {},
   "outputs": [
    {
     "ename": "ModuleNotFoundError",
     "evalue": "No module named 'pyspark.sql.DataFrame'",
     "output_type": "error",
     "traceback": [
      "\u001b[1;31m---------------------------------------------------------------------------\u001b[0m",
      "\u001b[1;31mModuleNotFoundError\u001b[0m                       Traceback (most recent call last)",
      "\u001b[1;32m<ipython-input-94-90b2150dfa5c>\u001b[0m in \u001b[0;36m<module>\u001b[1;34m\u001b[0m\n\u001b[1;32m----> 1\u001b[1;33m \u001b[1;32mfrom\u001b[0m \u001b[0mpyspark\u001b[0m\u001b[1;33m.\u001b[0m\u001b[0msql\u001b[0m\u001b[1;33m.\u001b[0m\u001b[0mDataFrame\u001b[0m \u001b[1;32mimport\u001b[0m \u001b[0mforeach\u001b[0m\u001b[1;33m\u001b[0m\u001b[1;33m\u001b[0m\u001b[0m\n\u001b[0m\u001b[0;32m      2\u001b[0m \u001b[1;32mdef\u001b[0m \u001b[0mf\u001b[0m\u001b[1;33m(\u001b[0m\u001b[0mfinal_df\u001b[0m\u001b[1;33m)\u001b[0m\u001b[1;33m:\u001b[0m\u001b[1;33m\u001b[0m\u001b[1;33m\u001b[0m\u001b[0m\n\u001b[0;32m      3\u001b[0m     \u001b[1;32mfor\u001b[0m \u001b[0mi\u001b[0m \u001b[1;32min\u001b[0m \u001b[0mfinal_df\u001b[0m\u001b[1;33m:\u001b[0m\u001b[1;33m\u001b[0m\u001b[1;33m\u001b[0m\u001b[0m\n\u001b[0;32m      4\u001b[0m         \u001b[0mprint\u001b[0m\u001b[1;33m(\u001b[0m\u001b[0mfinal_df\u001b[0m\u001b[1;33m.\u001b[0m\u001b[0mname\u001b[0m\u001b[1;33m)\u001b[0m\u001b[1;33m\u001b[0m\u001b[1;33m\u001b[0m\u001b[0m\n\u001b[0;32m      5\u001b[0m \u001b[1;33m\u001b[0m\u001b[0m\n",
      "\u001b[1;31mModuleNotFoundError\u001b[0m: No module named 'pyspark.sql.DataFrame'"
     ]
    }
   ],
   "source": [
    "from pyspark.sql.Data  import foreach\n",
    "def f(final_df):\n",
    "    for i in final_df:\n",
    "        print(final_df.name)\n",
    "        \n",
    "final_df.foreach(f)"
   ]
  },
  {
   "cell_type": "code",
   "execution_count": null,
   "metadata": {},
   "outputs": [],
   "source": [
    "# Iterate each rows in the DF"
   ]
  }
 ],
 "metadata": {
  "kernelspec": {
   "display_name": "Python 3",
   "language": "python",
   "name": "python3"
  },
  "language_info": {
   "codemirror_mode": {
    "name": "ipython",
    "version": 3
   },
   "file_extension": ".py",
   "mimetype": "text/x-python",
   "name": "python",
   "nbconvert_exporter": "python",
   "pygments_lexer": "ipython3",
   "version": "3.7.1"
  }
 },
 "nbformat": 4,
 "nbformat_minor": 2
}
