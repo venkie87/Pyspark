{
 "cells": [
  {
   "cell_type": "code",
   "execution_count": 1,
   "metadata": {},
   "outputs": [],
   "source": [
    "df=spark.read.csv('.\\\\sample_file\\\\100_records.csv',header=True)"
   ]
  },
  {
   "cell_type": "code",
   "execution_count": 2,
   "metadata": {},
   "outputs": [
    {
     "name": "stdout",
     "output_type": "stream",
     "text": [
      "+------+-----------+----------+--------------+---------+------+--------------------+----------------+-------------+--------------------+-------------+-------------+-----------+--------------+---------------+------------------+---------------+---------------+----------------+---------------------+-----------+--------------+--------------+---------+----------------------+------+-----------+-----------+------------+----------+-------+---------+-----+-----+------+----------+-------------+\n",
      "|Emp ID|Name Prefix|First Name|Middle Initial|Last Name|Gender|              E Mail|   Father's Name|Mother's Name|Mother's Maiden Name|Date of Birth|Time of Birth|Age in Yrs.|Weight in Kgs.|Date of Joining|Quarter of Joining|Half of Joining|Year of Joining|Month of Joining|Month Name of Joining|Short Month|Day of Joining|DOW of Joining|Short DOW|Age in Company (Years)|Salary|Last % Hike|        SSN|  Phone No. |Place Name| County|     City|State|  Zip|Region| User Name|     Password|\n",
      "+------+-----------+----------+--------------+---------+------+--------------------+----------------+-------------+--------------------+-------------+-------------+-----------+--------------+---------------+------------------+---------------+---------------+----------------+---------------------+-----------+--------------+--------------+---------+----------------------+------+-----------+-----------+------------+----------+-------+---------+-----+-----+------+----------+-------------+\n",
      "|677509|       Drs.|      Lois|             H|   Walker|     F|lois.walker@hotma...|   Donald Walker| Helen Walker|               Lewis|    3/29/1981|  02:31:49 AM|      36.36|            60|     11/24/2003|                Q4|             H2|           2003|              11|             November|        Nov|            24|        Monday|      Mon|                 13.68|168251|        21%|467-99-4677|303-572-8492|    Denver| Denver|   Denver|   CO|80224|  West|  lhwalker|DCa}.T}X:v?NP|\n",
      "|940761|        Ms.|    Brenda|             S| Robinson|     F|brenda.robinson@g...|Raymond Robinson|Judy Robinson|               Perry|    7/31/1970|  12:13:27 PM|      47.02|            60|      7/27/2008|                Q3|             H2|           2008|               7|                 July|        Jul|            27|        Sunday|      Sun|                  9.01| 51063|        27%|537-71-4566|225-945-4954| Stonewall|De Soto|Stonewall|   LA|71078| South|bsrobinson|TCo\\j#Zg;SQ~o|\n",
      "+------+-----------+----------+--------------+---------+------+--------------------+----------------+-------------+--------------------+-------------+-------------+-----------+--------------+---------------+------------------+---------------+---------------+----------------+---------------------+-----------+--------------+--------------+---------+----------------------+------+-----------+-----------+------------+----------+-------+---------+-----+-----+------+----------+-------------+\n",
      "only showing top 2 rows\n",
      "\n"
     ]
    }
   ],
   "source": [
    "df.show(2)"
   ]
  },
  {
   "cell_type": "code",
   "execution_count": 3,
   "metadata": {},
   "outputs": [
    {
     "name": "stdout",
     "output_type": "stream",
     "text": [
      "+------+-----------+----------+\n",
      "|Emp ID|Name Prefix|First Name|\n",
      "+------+-----------+----------+\n",
      "|677509|       Drs.|      Lois|\n",
      "|940761|        Ms.|    Brenda|\n",
      "|428945|        Dr.|       Joe|\n",
      "|408351|       Drs.|     Diane|\n",
      "|193819|        Mr.|  Benjamin|\n",
      "+------+-----------+----------+\n",
      "only showing top 5 rows\n",
      "\n"
     ]
    }
   ],
   "source": [
    "df.select('Emp ID','Name Prefix','First Name').show(5)"
   ]
  },
  {
   "cell_type": "code",
   "execution_count": 24,
   "metadata": {},
   "outputs": [
    {
     "ename": "AttributeError",
     "evalue": "'str' object has no attribute 'asc'",
     "output_type": "error",
     "traceback": [
      "\u001b[1;31m---------------------------------------------------------------------------\u001b[0m",
      "\u001b[1;31mAttributeError\u001b[0m                            Traceback (most recent call last)",
      "\u001b[1;32m<ipython-input-24-6e423ea38419>\u001b[0m in \u001b[0;36m<module>\u001b[1;34m\u001b[0m\n\u001b[0;32m      1\u001b[0m \u001b[1;32mfrom\u001b[0m \u001b[0mpyspark\u001b[0m\u001b[1;33m.\u001b[0m\u001b[0msql\u001b[0m\u001b[1;33m.\u001b[0m\u001b[0mfunctions\u001b[0m \u001b[1;32mimport\u001b[0m \u001b[1;33m*\u001b[0m\u001b[1;33m\u001b[0m\u001b[1;33m\u001b[0m\u001b[0m\n\u001b[1;32m----> 2\u001b[1;33m \u001b[0mdf\u001b[0m\u001b[1;33m.\u001b[0m\u001b[0mselect\u001b[0m\u001b[1;33m(\u001b[0m\u001b[1;34m'Emp ID'\u001b[0m\u001b[1;33m)\u001b[0m\u001b[1;33m.\u001b[0m\u001b[0morderBy\u001b[0m\u001b[1;33m(\u001b[0m\u001b[1;34m'Emp ID'\u001b[0m\u001b[1;33m.\u001b[0m\u001b[0masc\u001b[0m\u001b[1;33m(\u001b[0m\u001b[1;33m)\u001b[0m\u001b[1;33m)\u001b[0m\u001b[1;33m.\u001b[0m\u001b[0mshow\u001b[0m\u001b[1;33m(\u001b[0m\u001b[1;36m5\u001b[0m\u001b[1;33m)\u001b[0m\u001b[1;33m\u001b[0m\u001b[1;33m\u001b[0m\u001b[0m\n\u001b[0m",
      "\u001b[1;31mAttributeError\u001b[0m: 'str' object has no attribute 'asc'"
     ]
    }
   ],
   "source": [
    "from pyspark.sql.functions import *\n",
    "df.select('Emp ID').orderBy('Emp ID'.asc()).show(5)"
   ]
  },
  {
   "cell_type": "code",
   "execution_count": 27,
   "metadata": {},
   "outputs": [
    {
     "name": "stdout",
     "output_type": "stream",
     "text": [
      "+-------------+\n",
      "|Date of Birth|\n",
      "+-------------+\n",
      "|    3/29/1981|\n",
      "|    7/31/1970|\n",
      "|    6/16/1963|\n",
      "|    12/4/1977|\n",
      "|    4/17/1977|\n",
      "+-------------+\n",
      "only showing top 5 rows\n",
      "\n"
     ]
    }
   ],
   "source": [
    "df.select('Date of Birth').show(5)"
   ]
  },
  {
   "cell_type": "code",
   "execution_count": 31,
   "metadata": {},
   "outputs": [
    {
     "name": "stdout",
     "output_type": "stream",
     "text": [
      "+----------------------------+\n",
      "|add_months(Date of Birth, 1)|\n",
      "+----------------------------+\n",
      "|                        null|\n",
      "|                        null|\n",
      "|                        null|\n",
      "+----------------------------+\n",
      "only showing top 3 rows\n",
      "\n"
     ]
    }
   ],
   "source": [
    "df.select(add_months('Date of Birth',1)).alias('Next_month').show(3) #since it's strig value"
   ]
  },
  {
   "cell_type": "code",
   "execution_count": 39,
   "metadata": {},
   "outputs": [],
   "source": [
    "from pyspark.sql.types import DateType\n",
    "df=df.withColumn('Date of Birth',df['Date of Birth'].cast(DateType()))"
   ]
  },
  {
   "cell_type": "code",
   "execution_count": 40,
   "metadata": {},
   "outputs": [
    {
     "name": "stdout",
     "output_type": "stream",
     "text": [
      "root\n",
      " |-- Emp ID: string (nullable = true)\n",
      " |-- Name Prefix: string (nullable = true)\n",
      " |-- First Name: string (nullable = true)\n",
      " |-- Middle Initial: string (nullable = true)\n",
      " |-- Last Name: string (nullable = true)\n",
      " |-- Gender: string (nullable = true)\n",
      " |-- E Mail: string (nullable = true)\n",
      " |-- Father's Name: string (nullable = true)\n",
      " |-- Mother's Name: string (nullable = true)\n",
      " |-- Mother's Maiden Name: string (nullable = true)\n",
      " |-- Date of Birth: date (nullable = true)\n",
      " |-- Time of Birth: string (nullable = true)\n",
      " |-- Age in Yrs.: string (nullable = true)\n",
      " |-- Weight in Kgs.: string (nullable = true)\n",
      " |-- Date of Joining: string (nullable = true)\n",
      " |-- Quarter of Joining: string (nullable = true)\n",
      " |-- Half of Joining: string (nullable = true)\n",
      " |-- Year of Joining: string (nullable = true)\n",
      " |-- Month of Joining: string (nullable = true)\n",
      " |-- Month Name of Joining: string (nullable = true)\n",
      " |-- Short Month: string (nullable = true)\n",
      " |-- Day of Joining: string (nullable = true)\n",
      " |-- DOW of Joining: string (nullable = true)\n",
      " |-- Short DOW: string (nullable = true)\n",
      " |-- Age in Company (Years): string (nullable = true)\n",
      " |-- Salary: string (nullable = true)\n",
      " |-- Last % Hike: string (nullable = true)\n",
      " |-- SSN: string (nullable = true)\n",
      " |-- Phone No. : string (nullable = true)\n",
      " |-- Place Name: string (nullable = true)\n",
      " |-- County: string (nullable = true)\n",
      " |-- City: string (nullable = true)\n",
      " |-- State: string (nullable = true)\n",
      " |-- Zip: string (nullable = true)\n",
      " |-- Region: string (nullable = true)\n",
      " |-- User Name: string (nullable = true)\n",
      " |-- Password: string (nullable = true)\n",
      "\n"
     ]
    }
   ],
   "source": [
    "df.printSchema()"
   ]
  },
  {
   "cell_type": "code",
   "execution_count": 51,
   "metadata": {},
   "outputs": [
    {
     "name": "stdout",
     "output_type": "stream",
     "text": [
      "+----------------------------+\n",
      "|add_months(Date of Birth, 1)|\n",
      "+----------------------------+\n",
      "|                        null|\n",
      "|                        null|\n",
      "|                        null|\n",
      "+----------------------------+\n",
      "only showing top 3 rows\n",
      "\n"
     ]
    }
   ],
   "source": [
    "df.select(add_months(df['Date of Birth'],1)).show(3)"
   ]
  },
  {
   "cell_type": "code",
   "execution_count": 64,
   "metadata": {},
   "outputs": [
    {
     "name": "stdout",
     "output_type": "stream",
     "text": [
      "+----+\n",
      "|date|\n",
      "+----+\n",
      "|null|\n",
      "+----+\n",
      "\n"
     ]
    }
   ],
   "source": [
    "df1 = spark.createDataFrame([('2015/04/08',)], ['dt'])   # in date other than '-' is not working, hence convert it\n",
    "df1.select(date_format(df1.dt, 'yyyy/MM/dd').alias('date')).show()"
   ]
  },
  {
   "cell_type": "code",
   "execution_count": 79,
   "metadata": {},
   "outputs": [
    {
     "name": "stdout",
     "output_type": "stream",
     "text": [
      "+----------+----------+\n",
      "|        dt|       dt1|\n",
      "+----------+----------+\n",
      "|2015/04/08|2015-04-08|\n",
      "+----------+----------+\n",
      "\n"
     ]
    }
   ],
   "source": [
    "df1.withColumn(\"dt1\",expr(\"to_date(dt,'yyyy/MM/dd')\")).show()\n",
    "#df.withColumn(\"test3\",expr(\"to_date(value, format)\")).show()"
   ]
  },
  {
   "cell_type": "code",
   "execution_count": 85,
   "metadata": {},
   "outputs": [
    {
     "ename": "ParseException",
     "evalue": "\"\\nmismatched input 'of' expecting ')'(line 1, pos 13)\\n\\n== SQL ==\\nto_date(Date of Birth,'MM/dd/yyyy')\\n-------------^^^\\n\"",
     "output_type": "error",
     "traceback": [
      "\u001b[1;31m---------------------------------------------------------------------------\u001b[0m",
      "\u001b[1;31mPy4JJavaError\u001b[0m                             Traceback (most recent call last)",
      "\u001b[1;32mC:\\Spark\\python\\pyspark\\sql\\utils.py\u001b[0m in \u001b[0;36mdeco\u001b[1;34m(*a, **kw)\u001b[0m\n\u001b[0;32m     62\u001b[0m         \u001b[1;32mtry\u001b[0m\u001b[1;33m:\u001b[0m\u001b[1;33m\u001b[0m\u001b[1;33m\u001b[0m\u001b[0m\n\u001b[1;32m---> 63\u001b[1;33m             \u001b[1;32mreturn\u001b[0m \u001b[0mf\u001b[0m\u001b[1;33m(\u001b[0m\u001b[1;33m*\u001b[0m\u001b[0ma\u001b[0m\u001b[1;33m,\u001b[0m \u001b[1;33m**\u001b[0m\u001b[0mkw\u001b[0m\u001b[1;33m)\u001b[0m\u001b[1;33m\u001b[0m\u001b[1;33m\u001b[0m\u001b[0m\n\u001b[0m\u001b[0;32m     64\u001b[0m         \u001b[1;32mexcept\u001b[0m \u001b[0mpy4j\u001b[0m\u001b[1;33m.\u001b[0m\u001b[0mprotocol\u001b[0m\u001b[1;33m.\u001b[0m\u001b[0mPy4JJavaError\u001b[0m \u001b[1;32mas\u001b[0m \u001b[0me\u001b[0m\u001b[1;33m:\u001b[0m\u001b[1;33m\u001b[0m\u001b[1;33m\u001b[0m\u001b[0m\n",
      "\u001b[1;32mC:\\Spark\\python\\lib\\py4j-0.10.7-src.zip\\py4j\\protocol.py\u001b[0m in \u001b[0;36mget_return_value\u001b[1;34m(answer, gateway_client, target_id, name)\u001b[0m\n\u001b[0;32m    327\u001b[0m                     \u001b[1;34m\"An error occurred while calling {0}{1}{2}.\\n\"\u001b[0m\u001b[1;33m.\u001b[0m\u001b[1;33m\u001b[0m\u001b[1;33m\u001b[0m\u001b[0m\n\u001b[1;32m--> 328\u001b[1;33m                     format(target_id, \".\", name), value)\n\u001b[0m\u001b[0;32m    329\u001b[0m             \u001b[1;32melse\u001b[0m\u001b[1;33m:\u001b[0m\u001b[1;33m\u001b[0m\u001b[1;33m\u001b[0m\u001b[0m\n",
      "\u001b[1;31mPy4JJavaError\u001b[0m: An error occurred while calling z:org.apache.spark.sql.functions.expr.\n: org.apache.spark.sql.catalyst.parser.ParseException: \nmismatched input 'of' expecting ')'(line 1, pos 13)\n\n== SQL ==\nto_date(Date of Birth,'MM/dd/yyyy')\n-------------^^^\n\r\n\tat org.apache.spark.sql.catalyst.parser.ParseException.withCommand(ParseDriver.scala:239)\r\n\tat org.apache.spark.sql.catalyst.parser.AbstractSqlParser.parse(ParseDriver.scala:115)\r\n\tat org.apache.spark.sql.execution.SparkSqlParser.parse(SparkSqlParser.scala:48)\r\n\tat org.apache.spark.sql.catalyst.parser.AbstractSqlParser.parseExpression(ParseDriver.scala:44)\r\n\tat org.apache.spark.sql.functions$.expr(functions.scala:1308)\r\n\tat org.apache.spark.sql.functions.expr(functions.scala)\r\n\tat sun.reflect.NativeMethodAccessorImpl.invoke0(Native Method)\r\n\tat sun.reflect.NativeMethodAccessorImpl.invoke(Unknown Source)\r\n\tat sun.reflect.DelegatingMethodAccessorImpl.invoke(Unknown Source)\r\n\tat java.lang.reflect.Method.invoke(Unknown Source)\r\n\tat py4j.reflection.MethodInvoker.invoke(MethodInvoker.java:244)\r\n\tat py4j.reflection.ReflectionEngine.invoke(ReflectionEngine.java:357)\r\n\tat py4j.Gateway.invoke(Gateway.java:282)\r\n\tat py4j.commands.AbstractCommand.invokeMethod(AbstractCommand.java:132)\r\n\tat py4j.commands.CallCommand.execute(CallCommand.java:79)\r\n\tat py4j.GatewayConnection.run(GatewayConnection.java:238)\r\n\tat java.lang.Thread.run(Unknown Source)\r\n",
      "\nDuring handling of the above exception, another exception occurred:\n",
      "\u001b[1;31mParseException\u001b[0m                            Traceback (most recent call last)",
      "\u001b[1;32m<ipython-input-85-14b3ebbbd99b>\u001b[0m in \u001b[0;36m<module>\u001b[1;34m\u001b[0m\n\u001b[0;32m      1\u001b[0m \u001b[1;31m#Back to actual dataframe\u001b[0m\u001b[1;33m\u001b[0m\u001b[1;33m\u001b[0m\u001b[1;33m\u001b[0m\u001b[0m\n\u001b[1;32m----> 2\u001b[1;33m \u001b[0mdf\u001b[0m\u001b[1;33m.\u001b[0m\u001b[0mwithColumn\u001b[0m\u001b[1;33m(\u001b[0m\u001b[1;34m'Date_of_Birth1'\u001b[0m\u001b[1;33m,\u001b[0m\u001b[0mexpr\u001b[0m\u001b[1;33m(\u001b[0m\u001b[1;34m\"to_date(Date of Birth,'MM/dd/yyyy')\"\u001b[0m\u001b[1;33m)\u001b[0m\u001b[1;33m)\u001b[0m\u001b[1;33m.\u001b[0m\u001b[0mshow\u001b[0m\u001b[1;33m(\u001b[0m\u001b[1;36m5\u001b[0m\u001b[1;33m)\u001b[0m\u001b[1;33m\u001b[0m\u001b[1;33m\u001b[0m\u001b[0m\n\u001b[0m",
      "\u001b[1;32mC:\\Spark\\python\\pyspark\\sql\\functions.py\u001b[0m in \u001b[0;36mexpr\u001b[1;34m(str)\u001b[0m\n\u001b[0;32m    638\u001b[0m     \"\"\"\n\u001b[0;32m    639\u001b[0m     \u001b[0msc\u001b[0m \u001b[1;33m=\u001b[0m \u001b[0mSparkContext\u001b[0m\u001b[1;33m.\u001b[0m\u001b[0m_active_spark_context\u001b[0m\u001b[1;33m\u001b[0m\u001b[1;33m\u001b[0m\u001b[0m\n\u001b[1;32m--> 640\u001b[1;33m     \u001b[1;32mreturn\u001b[0m \u001b[0mColumn\u001b[0m\u001b[1;33m(\u001b[0m\u001b[0msc\u001b[0m\u001b[1;33m.\u001b[0m\u001b[0m_jvm\u001b[0m\u001b[1;33m.\u001b[0m\u001b[0mfunctions\u001b[0m\u001b[1;33m.\u001b[0m\u001b[0mexpr\u001b[0m\u001b[1;33m(\u001b[0m\u001b[0mstr\u001b[0m\u001b[1;33m)\u001b[0m\u001b[1;33m)\u001b[0m\u001b[1;33m\u001b[0m\u001b[1;33m\u001b[0m\u001b[0m\n\u001b[0m\u001b[0;32m    641\u001b[0m \u001b[1;33m\u001b[0m\u001b[0m\n\u001b[0;32m    642\u001b[0m \u001b[1;33m\u001b[0m\u001b[0m\n",
      "\u001b[1;32mC:\\Spark\\python\\lib\\py4j-0.10.7-src.zip\\py4j\\java_gateway.py\u001b[0m in \u001b[0;36m__call__\u001b[1;34m(self, *args)\u001b[0m\n\u001b[0;32m   1255\u001b[0m         \u001b[0manswer\u001b[0m \u001b[1;33m=\u001b[0m \u001b[0mself\u001b[0m\u001b[1;33m.\u001b[0m\u001b[0mgateway_client\u001b[0m\u001b[1;33m.\u001b[0m\u001b[0msend_command\u001b[0m\u001b[1;33m(\u001b[0m\u001b[0mcommand\u001b[0m\u001b[1;33m)\u001b[0m\u001b[1;33m\u001b[0m\u001b[1;33m\u001b[0m\u001b[0m\n\u001b[0;32m   1256\u001b[0m         return_value = get_return_value(\n\u001b[1;32m-> 1257\u001b[1;33m             answer, self.gateway_client, self.target_id, self.name)\n\u001b[0m\u001b[0;32m   1258\u001b[0m \u001b[1;33m\u001b[0m\u001b[0m\n\u001b[0;32m   1259\u001b[0m         \u001b[1;32mfor\u001b[0m \u001b[0mtemp_arg\u001b[0m \u001b[1;32min\u001b[0m \u001b[0mtemp_args\u001b[0m\u001b[1;33m:\u001b[0m\u001b[1;33m\u001b[0m\u001b[1;33m\u001b[0m\u001b[0m\n",
      "\u001b[1;32mC:\\Spark\\python\\pyspark\\sql\\utils.py\u001b[0m in \u001b[0;36mdeco\u001b[1;34m(*a, **kw)\u001b[0m\n\u001b[0;32m     71\u001b[0m                 \u001b[1;32mraise\u001b[0m \u001b[0mAnalysisException\u001b[0m\u001b[1;33m(\u001b[0m\u001b[0ms\u001b[0m\u001b[1;33m.\u001b[0m\u001b[0msplit\u001b[0m\u001b[1;33m(\u001b[0m\u001b[1;34m': '\u001b[0m\u001b[1;33m,\u001b[0m \u001b[1;36m1\u001b[0m\u001b[1;33m)\u001b[0m\u001b[1;33m[\u001b[0m\u001b[1;36m1\u001b[0m\u001b[1;33m]\u001b[0m\u001b[1;33m,\u001b[0m \u001b[0mstackTrace\u001b[0m\u001b[1;33m)\u001b[0m\u001b[1;33m\u001b[0m\u001b[1;33m\u001b[0m\u001b[0m\n\u001b[0;32m     72\u001b[0m             \u001b[1;32mif\u001b[0m \u001b[0ms\u001b[0m\u001b[1;33m.\u001b[0m\u001b[0mstartswith\u001b[0m\u001b[1;33m(\u001b[0m\u001b[1;34m'org.apache.spark.sql.catalyst.parser.ParseException: '\u001b[0m\u001b[1;33m)\u001b[0m\u001b[1;33m:\u001b[0m\u001b[1;33m\u001b[0m\u001b[1;33m\u001b[0m\u001b[0m\n\u001b[1;32m---> 73\u001b[1;33m                 \u001b[1;32mraise\u001b[0m \u001b[0mParseException\u001b[0m\u001b[1;33m(\u001b[0m\u001b[0ms\u001b[0m\u001b[1;33m.\u001b[0m\u001b[0msplit\u001b[0m\u001b[1;33m(\u001b[0m\u001b[1;34m': '\u001b[0m\u001b[1;33m,\u001b[0m \u001b[1;36m1\u001b[0m\u001b[1;33m)\u001b[0m\u001b[1;33m[\u001b[0m\u001b[1;36m1\u001b[0m\u001b[1;33m]\u001b[0m\u001b[1;33m,\u001b[0m \u001b[0mstackTrace\u001b[0m\u001b[1;33m)\u001b[0m\u001b[1;33m\u001b[0m\u001b[1;33m\u001b[0m\u001b[0m\n\u001b[0m\u001b[0;32m     74\u001b[0m             \u001b[1;32mif\u001b[0m \u001b[0ms\u001b[0m\u001b[1;33m.\u001b[0m\u001b[0mstartswith\u001b[0m\u001b[1;33m(\u001b[0m\u001b[1;34m'org.apache.spark.sql.streaming.StreamingQueryException: '\u001b[0m\u001b[1;33m)\u001b[0m\u001b[1;33m:\u001b[0m\u001b[1;33m\u001b[0m\u001b[1;33m\u001b[0m\u001b[0m\n\u001b[0;32m     75\u001b[0m                 \u001b[1;32mraise\u001b[0m \u001b[0mStreamingQueryException\u001b[0m\u001b[1;33m(\u001b[0m\u001b[0ms\u001b[0m\u001b[1;33m.\u001b[0m\u001b[0msplit\u001b[0m\u001b[1;33m(\u001b[0m\u001b[1;34m': '\u001b[0m\u001b[1;33m,\u001b[0m \u001b[1;36m1\u001b[0m\u001b[1;33m)\u001b[0m\u001b[1;33m[\u001b[0m\u001b[1;36m1\u001b[0m\u001b[1;33m]\u001b[0m\u001b[1;33m,\u001b[0m \u001b[0mstackTrace\u001b[0m\u001b[1;33m)\u001b[0m\u001b[1;33m\u001b[0m\u001b[1;33m\u001b[0m\u001b[0m\n",
      "\u001b[1;31mParseException\u001b[0m: \"\\nmismatched input 'of' expecting ')'(line 1, pos 13)\\n\\n== SQL ==\\nto_date(Date of Birth,'MM/dd/yyyy')\\n-------------^^^\\n\""
     ]
    }
   ],
   "source": [
    "#Back to actual dataframe\n",
    "df.withColumn('Date_of_Birth1',expr(\"to_date(Date of Birth,'MM/dd/yyyy')\")).show(5)   # space in the column name"
   ]
  },
  {
   "cell_type": "code",
   "execution_count": 109,
   "metadata": {},
   "outputs": [],
   "source": [
    "df=df.withColumnRenamed('Date of Birth','Date_of_Birth')   # column name changed"
   ]
  },
  {
   "cell_type": "code",
   "execution_count": 110,
   "metadata": {},
   "outputs": [
    {
     "data": {
      "text/plain": [
       "DataFrame[Emp ID: string, Name Prefix: string, First Name: string, Middle Initial: string, Last Name: string, Gender: string, E Mail: string, Father's Name: string, Mother's Name: string, Mother's Maiden Name: string, Date_of_Birth: string, Time of Birth: string, Age in Yrs.: string, Weight in Kgs.: string, Date of Joining: string, Quarter of Joining: string, Half of Joining: string, Year of Joining: string, Month of Joining: string, Month Name of Joining: string, Short Month: string, Day of Joining: string, DOW of Joining: string, Short DOW: string, Age in Company (Years): string, Salary: string, Last % Hike: string, SSN: string, Phone No. : string, Place Name: string, County: string, City: string, State: string, Zip: string, Region: string, User Name: string, Password: string, Date_of_Birth1: date]"
      ]
     },
     "execution_count": 110,
     "metadata": {},
     "output_type": "execute_result"
    }
   ],
   "source": [
    "df.withColumn('Date_of_Birth1',expr(\"to_date(Date_of_Birth,'MM/dd/yyyy')\"))"
   ]
  },
  {
   "cell_type": "code",
   "execution_count": 112,
   "metadata": {},
   "outputs": [
    {
     "name": "stdout",
     "output_type": "stream",
     "text": [
      "+-------------+\n",
      "|Date_of_Birth|\n",
      "+-------------+\n",
      "|    3/29/1981|\n",
      "|    7/31/1970|\n",
      "|    6/16/1963|\n",
      "|    12/4/1977|\n",
      "|    4/17/1977|\n",
      "+-------------+\n",
      "only showing top 5 rows\n",
      "\n"
     ]
    }
   ],
   "source": [
    "df.select('Date_of_Birth').show(5)"
   ]
  },
  {
   "cell_type": "code",
   "execution_count": 3,
   "metadata": {},
   "outputs": [
    {
     "name": "stdout",
     "output_type": "stream",
     "text": [
      "+------+-----------+----------+--------------+---------+------+--------------------+----------------+-------------+--------------------+-------------+-------------+-----------+--------------+---------------+------------------+---------------+---------------+----------------+---------------------+-----------+--------------+--------------+---------+----------------------+------+-----------+-----------+------------+----------+-------+---------+-----+-----+------+----------+-------------+\n",
      "|Emp ID|Name Prefix|First Name|Middle Initial|Last Name|Gender|              E Mail|   Father's Name|Mother's Name|Mother's Maiden Name|Date of Birth|Time of Birth|Age in Yrs.|Weight in Kgs.|Date of Joining|Quarter of Joining|Half of Joining|Year of Joining|Month of Joining|Month Name of Joining|Short Month|Day of Joining|DOW of Joining|Short DOW|Age in Company (Years)|Salary|Last % Hike|        SSN|  Phone No. |Place Name| County|     City|State|  Zip|Region| User Name|     Password|\n",
      "+------+-----------+----------+--------------+---------+------+--------------------+----------------+-------------+--------------------+-------------+-------------+-----------+--------------+---------------+------------------+---------------+---------------+----------------+---------------------+-----------+--------------+--------------+---------+----------------------+------+-----------+-----------+------------+----------+-------+---------+-----+-----+------+----------+-------------+\n",
      "|677509|       Drs.|      Lois|             H|   Walker|     F|lois.walker@hotma...|   Donald Walker| Helen Walker|               Lewis|    3/29/1981|  02:31:49 AM|      36.36|            60|     11/24/2003|                Q4|             H2|           2003|              11|             November|        Nov|            24|        Monday|      Mon|                 13.68|168251|        21%|467-99-4677|303-572-8492|    Denver| Denver|   Denver|   CO|80224|  West|  lhwalker|DCa}.T}X:v?NP|\n",
      "|940761|        Ms.|    Brenda|             S| Robinson|     F|brenda.robinson@g...|Raymond Robinson|Judy Robinson|               Perry|    7/31/1970|  12:13:27 PM|      47.02|            60|      7/27/2008|                Q3|             H2|           2008|               7|                 July|        Jul|            27|        Sunday|      Sun|                  9.01| 51063|        27%|537-71-4566|225-945-4954| Stonewall|De Soto|Stonewall|   LA|71078| South|bsrobinson|TCo\\j#Zg;SQ~o|\n",
      "+------+-----------+----------+--------------+---------+------+--------------------+----------------+-------------+--------------------+-------------+-------------+-----------+--------------+---------------+------------------+---------------+---------------+----------------+---------------------+-----------+--------------+--------------+---------+----------------------+------+-----------+-----------+------------+----------+-------+---------+-----+-----+------+----------+-------------+\n",
      "only showing top 2 rows\n",
      "\n"
     ]
    }
   ],
   "source": [
    "df.show(2)"
   ]
  },
  {
   "cell_type": "code",
   "execution_count": 5,
   "metadata": {},
   "outputs": [
    {
     "name": "stdout",
     "output_type": "stream",
     "text": [
      "+------------------+\n",
      "|length(First Name)|\n",
      "+------------------+\n",
      "|                 4|\n",
      "|                 6|\n",
      "|                 3|\n",
      "|                 5|\n",
      "|                 8|\n",
      "+------------------+\n",
      "only showing top 5 rows\n",
      "\n"
     ]
    }
   ],
   "source": [
    "from pyspark.sql import functions as f\n",
    "df.select(f.length('First Name')).show(5)"
   ]
  },
  {
   "cell_type": "code",
   "execution_count": 46,
   "metadata": {},
   "outputs": [],
   "source": [
    "df=df.withColumnRenamed('First Name','First_Name')\n",
    "#df.select(f.least()).show()"
   ]
  },
  {
   "cell_type": "code",
   "execution_count": 19,
   "metadata": {},
   "outputs": [
    {
     "name": "stdout",
     "output_type": "stream",
     "text": [
      "+----------+-------------+\n",
      "|Age_in_Yrs|Weight_in_Kgs|\n",
      "+----------+-------------+\n",
      "|     36.36|           60|\n",
      "|     47.02|           60|\n",
      "|     54.15|           68|\n",
      "+----------+-------------+\n",
      "only showing top 3 rows\n",
      "\n"
     ]
    }
   ],
   "source": [
    "df.select(df.Age_in_Yrs,df.Weight_in_Kgs).show(3)"
   ]
  },
  {
   "cell_type": "code",
   "execution_count": 18,
   "metadata": {},
   "outputs": [
    {
     "name": "stdout",
     "output_type": "stream",
     "text": [
      "+--------------------------------+\n",
      "|least(Age_in_Yrs, Weight_in_Kgs)|\n",
      "+--------------------------------+\n",
      "|                           36.36|\n",
      "|                           47.02|\n",
      "|                           54.15|\n",
      "+--------------------------------+\n",
      "only showing top 3 rows\n",
      "\n"
     ]
    }
   ],
   "source": [
    "df.select(f.least(df.Age_in_Yrs,df.Weight_in_Kgs)).show(3)"
   ]
  },
  {
   "cell_type": "code",
   "execution_count": 38,
   "metadata": {},
   "outputs": [
    {
     "name": "stdout",
     "output_type": "stream",
     "text": [
      "+-------------+---------------+-------------+\n",
      "|Date of Birth|Date of Joining|   month_diff|\n",
      "+-------------+---------------+-------------+\n",
      "|    3/29/1981|     11/24/2003|-271.83870968|\n",
      "|    7/31/1970|      7/27/2008|-455.87096774|\n",
      "|    6/16/1963|       8/3/2016|-637.58064516|\n",
      "+-------------+---------------+-------------+\n",
      "only showing top 3 rows\n",
      "\n"
     ]
    }
   ],
   "source": [
    "df.select('Date of Birth','Date of Joining',f.months_between(f.to_date('Date of Birth','MM/dd/yyyy'),f.to_date('Date of Joining','MM/dd/yyyy')).alias('month_diff')).show(3)"
   ]
  },
  {
   "cell_type": "code",
   "execution_count": 42,
   "metadata": {},
   "outputs": [
    {
     "name": "stdout",
     "output_type": "stream",
     "text": [
      "+---------------------+\n",
      "|length(Weight_in_Kgs)|\n",
      "+---------------------+\n",
      "|                    2|\n",
      "|                    2|\n",
      "|                    2|\n",
      "+---------------------+\n",
      "only showing top 3 rows\n",
      "\n"
     ]
    }
   ],
   "source": [
    "df.select(f.length(df.Weight_in_Kgs)).show(3)"
   ]
  },
  {
   "cell_type": "code",
   "execution_count": 50,
   "metadata": {},
   "outputs": [
    {
     "name": "stdout",
     "output_type": "stream",
     "text": [
      "+----------+-------------------+\n",
      "|First_Name|reverse(First_Name)|\n",
      "+----------+-------------------+\n",
      "|      Lois|               sioL|\n",
      "|    Brenda|             adnerB|\n",
      "|       Joe|                eoJ|\n",
      "+----------+-------------------+\n",
      "only showing top 3 rows\n",
      "\n"
     ]
    }
   ],
   "source": [
    "df.select('First_Name',f.reverse(df.First_Name)).show(3)"
   ]
  },
  {
   "cell_type": "code",
   "execution_count": 53,
   "metadata": {},
   "outputs": [
    {
     "name": "stdout",
     "output_type": "stream",
     "text": [
      "+------------------------+\n",
      "|locate(r, First_Name, 2)|\n",
      "+------------------------+\n",
      "|                       0|\n",
      "|                       2|\n",
      "|                       0|\n",
      "+------------------------+\n",
      "only showing top 3 rows\n",
      "\n"
     ]
    }
   ],
   "source": [
    "df.select(f.locate('r',df.First_Name,2)).show(3)"
   ]
  },
  {
   "cell_type": "code",
   "execution_count": 58,
   "metadata": {},
   "outputs": [
    {
     "name": "stdout",
     "output_type": "stream",
     "text": [
      "+--------------+\n",
      "|        struct|\n",
      "+--------------+\n",
      "|[677509, Drs.]|\n",
      "| [940761, Ms.]|\n",
      "| [428945, Dr.]|\n",
      "+--------------+\n",
      "only showing top 3 rows\n",
      "\n"
     ]
    }
   ],
   "source": [
    "df.select(f.struct('Emp ID','Name Prefix').alias('struct')).show(3)"
   ]
  },
  {
   "cell_type": "code",
   "execution_count": 68,
   "metadata": {},
   "outputs": [
    {
     "data": {
      "text/plain": [
       "[Row(struct=Row(Emp ID='677509', Name Prefix='Drs.')),\n",
       " Row(struct=Row(Emp ID='940761', Name Prefix='Ms.')),\n",
       " Row(struct=Row(Emp ID='428945', Name Prefix='Dr.')),\n",
       " Row(struct=Row(Emp ID='408351', Name Prefix='Drs.')),\n",
       " Row(struct=Row(Emp ID='193819', Name Prefix='Mr.')),\n",
       " Row(struct=Row(Emp ID='499687', Name Prefix='Mr.')),\n",
       " Row(struct=Row(Emp ID='539712', Name Prefix='Ms.')),\n",
       " Row(struct=Row(Emp ID='380086', Name Prefix='Mrs.')),\n",
       " Row(struct=Row(Emp ID='477616', Name Prefix='Hon.')),\n",
       " Row(struct=Row(Emp ID='162402', Name Prefix='Hon.')),\n",
       " Row(struct=Row(Emp ID='231469', Name Prefix='Mr.')),\n",
       " Row(struct=Row(Emp ID='153989', Name Prefix='Prof.')),\n",
       " Row(struct=Row(Emp ID='386158', Name Prefix='Mrs.')),\n",
       " Row(struct=Row(Emp ID='301576', Name Prefix='Hon.')),\n",
       " Row(struct=Row(Emp ID='441771', Name Prefix='Mrs.')),\n",
       " Row(struct=Row(Emp ID='528509', Name Prefix='Hon.')),\n",
       " Row(struct=Row(Emp ID='912990', Name Prefix='Mr.')),\n",
       " Row(struct=Row(Emp ID='214352', Name Prefix='Ms.')),\n",
       " Row(struct=Row(Emp ID='890290', Name Prefix='Hon.')),\n",
       " Row(struct=Row(Emp ID='622406', Name Prefix='Mr.')),\n",
       " Row(struct=Row(Emp ID='979607', Name Prefix='Ms.')),\n",
       " Row(struct=Row(Emp ID='969580', Name Prefix='Prof.')),\n",
       " Row(struct=Row(Emp ID='426038', Name Prefix='Hon.')),\n",
       " Row(struct=Row(Emp ID='388642', Name Prefix='Mrs.')),\n",
       " Row(struct=Row(Emp ID='560455', Name Prefix='Ms.')),\n",
       " Row(struct=Row(Emp ID='477253', Name Prefix='Mrs.')),\n",
       " Row(struct=Row(Emp ID='263480', Name Prefix='Hon.')),\n",
       " Row(struct=Row(Emp ID='683826', Name Prefix='Mr.')),\n",
       " Row(struct=Row(Emp ID='474599', Name Prefix='Drs.')),\n",
       " Row(struct=Row(Emp ID='335732', Name Prefix='Ms.')),\n",
       " Row(struct=Row(Emp ID='329752', Name Prefix='Hon.')),\n",
       " Row(struct=Row(Emp ID='893212', Name Prefix='Ms.')),\n",
       " Row(struct=Row(Emp ID='621833', Name Prefix='Mr.')),\n",
       " Row(struct=Row(Emp ID='456747', Name Prefix='Mr.')),\n",
       " Row(struct=Row(Emp ID='278556', Name Prefix='Prof.')),\n",
       " Row(struct=Row(Emp ID='333476', Name Prefix='Hon.')),\n",
       " Row(struct=Row(Emp ID='218791', Name Prefix='Mr.')),\n",
       " Row(struct=Row(Emp ID='134841', Name Prefix='Ms.')),\n",
       " Row(struct=Row(Emp ID='726264', Name Prefix='Hon.')),\n",
       " Row(struct=Row(Emp ID='766610', Name Prefix='Ms.')),\n",
       " Row(struct=Row(Emp ID='923947', Name Prefix='Ms.')),\n",
       " Row(struct=Row(Emp ID='227922', Name Prefix='Hon.')),\n",
       " Row(struct=Row(Emp ID='265813', Name Prefix='Hon.')),\n",
       " Row(struct=Row(Emp ID='247137', Name Prefix='Mr.')),\n",
       " Row(struct=Row(Emp ID='407061', Name Prefix='Ms.')),\n",
       " Row(struct=Row(Emp ID='226714', Name Prefix='Drs.')),\n",
       " Row(struct=Row(Emp ID='702813', Name Prefix='Mr.')),\n",
       " Row(struct=Row(Emp ID='524896', Name Prefix='Ms.')),\n",
       " Row(struct=Row(Emp ID='363065', Name Prefix='Drs.')),\n",
       " Row(struct=Row(Emp ID='879753', Name Prefix='Mrs.')),\n",
       " Row(struct=Row(Emp ID='958326', Name Prefix='Mr.')),\n",
       " Row(struct=Row(Emp ID='447813', Name Prefix='Mrs.')),\n",
       " Row(struct=Row(Emp ID='525955', Name Prefix='Drs.')),\n",
       " Row(struct=Row(Emp ID='818384', Name Prefix='Mr.')),\n",
       " Row(struct=Row(Emp ID='971640', Name Prefix='Prof.')),\n",
       " Row(struct=Row(Emp ID='253573', Name Prefix='Ms.')),\n",
       " Row(struct=Row(Emp ID='904898', Name Prefix='Drs.')),\n",
       " Row(struct=Row(Emp ID='515103', Name Prefix='Ms.')),\n",
       " Row(struct=Row(Emp ID='491943', Name Prefix='Mrs.')),\n",
       " Row(struct=Row(Emp ID='750173', Name Prefix='Mr.')),\n",
       " Row(struct=Row(Emp ID='687017', Name Prefix='Ms.')),\n",
       " Row(struct=Row(Emp ID='241882', Name Prefix='Ms.')),\n",
       " Row(struct=Row(Emp ID='758872', Name Prefix='Mr.')),\n",
       " Row(struct=Row(Emp ID='940922', Name Prefix='Hon.')),\n",
       " Row(struct=Row(Emp ID='917937', Name Prefix='Mr.')),\n",
       " Row(struct=Row(Emp ID='917395', Name Prefix='Hon.')),\n",
       " Row(struct=Row(Emp ID='183071', Name Prefix='Drs.')),\n",
       " Row(struct=Row(Emp ID='316110', Name Prefix='Mr.')),\n",
       " Row(struct=Row(Emp ID='293459', Name Prefix='Mr.')),\n",
       " Row(struct=Row(Emp ID='732017', Name Prefix='Ms.')),\n",
       " Row(struct=Row(Emp ID='915638', Name Prefix='Dr.')),\n",
       " Row(struct=Row(Emp ID='478003', Name Prefix='Hon.')),\n",
       " Row(struct=Row(Emp ID='951225', Name Prefix='Ms.')),\n",
       " Row(struct=Row(Emp ID='883936', Name Prefix='Mr.')),\n",
       " Row(struct=Row(Emp ID='528673', Name Prefix='Hon.')),\n",
       " Row(struct=Row(Emp ID='765850', Name Prefix='Mrs.')),\n",
       " Row(struct=Row(Emp ID='262382', Name Prefix='Ms.')),\n",
       " Row(struct=Row(Emp ID='870820', Name Prefix='Ms.')),\n",
       " Row(struct=Row(Emp ID='806955', Name Prefix='Mr.')),\n",
       " Row(struct=Row(Emp ID='325319', Name Prefix='Hon.')),\n",
       " Row(struct=Row(Emp ID='623253', Name Prefix='Mrs.')),\n",
       " Row(struct=Row(Emp ID='225925', Name Prefix='Mr.')),\n",
       " Row(struct=Row(Emp ID='761821', Name Prefix='Mr.')),\n",
       " Row(struct=Row(Emp ID='400173', Name Prefix='Ms.')),\n",
       " Row(struct=Row(Emp ID='802554', Name Prefix='Mr.')),\n",
       " Row(struct=Row(Emp ID='476433', Name Prefix='Ms.')),\n",
       " Row(struct=Row(Emp ID='533952', Name Prefix='Ms.')),\n",
       " Row(struct=Row(Emp ID='623929', Name Prefix='Prof.')),\n",
       " Row(struct=Row(Emp ID='844177', Name Prefix='Ms.')),\n",
       " Row(struct=Row(Emp ID='212893', Name Prefix='Ms.')),\n",
       " Row(struct=Row(Emp ID='185032', Name Prefix='Mr.')),\n",
       " Row(struct=Row(Emp ID='867084', Name Prefix='Ms.')),\n",
       " Row(struct=Row(Emp ID='969964', Name Prefix='Hon.')),\n",
       " Row(struct=Row(Emp ID='158666', Name Prefix='Ms.')),\n",
       " Row(struct=Row(Emp ID='489424', Name Prefix='Dr.')),\n",
       " Row(struct=Row(Emp ID='639892', Name Prefix='Mr.')),\n",
       " Row(struct=Row(Emp ID='704709', Name Prefix='Dr.')),\n",
       " Row(struct=Row(Emp ID='461593', Name Prefix='Ms.')),\n",
       " Row(struct=Row(Emp ID='392491', Name Prefix='Mrs.')),\n",
       " Row(struct=Row(Emp ID='495141', Name Prefix='Drs.'))]"
      ]
     },
     "execution_count": 68,
     "metadata": {},
     "output_type": "execute_result"
    }
   ],
   "source": [
    "df.select(f.struct('Emp ID','Name Prefix').alias('struct')).collect()"
   ]
  },
  {
   "cell_type": "code",
   "execution_count": 66,
   "metadata": {},
   "outputs": [
    {
     "data": {
      "text/plain": [
       "list"
      ]
     },
     "execution_count": 66,
     "metadata": {},
     "output_type": "execute_result"
    }
   ],
   "source": [
    "type(new_schema)"
   ]
  },
  {
   "cell_type": "code",
   "execution_count": 69,
   "metadata": {},
   "outputs": [
    {
     "name": "stdout",
     "output_type": "stream",
     "text": [
      "+----------+\n",
      "|First_Name|\n",
      "+----------+\n",
      "|      Lois|\n",
      "|    Brenda|\n",
      "|       Joe|\n",
      "+----------+\n",
      "only showing top 3 rows\n",
      "\n"
     ]
    }
   ],
   "source": [
    "df.select('First_Name').show(3)"
   ]
  },
  {
   "cell_type": "code",
   "execution_count": 73,
   "metadata": {},
   "outputs": [
    {
     "name": "stdout",
     "output_type": "stream",
     "text": [
      "+----------+\n",
      "|case_stsmt|\n",
      "+----------+\n",
      "|       LOL|\n",
      "|       BRR|\n",
      "|      JOJO|\n",
      "|    ohlala|\n",
      "|    ohlala|\n",
      "|    ohlala|\n",
      "|    ohlala|\n",
      "|    ohlala|\n",
      "|    ohlala|\n",
      "|    ohlala|\n",
      "+----------+\n",
      "only showing top 10 rows\n",
      "\n"
     ]
    }
   ],
   "source": [
    "df.select(f.when(df.First_Name == 'Lois' , 'LOL').when(df.First_Name == 'Brenda', 'BRR').when(df.First_Name == 'Joe' , 'JOJO').otherwise('ohlala') \\\n",
    "         .alias('case_stsmt')).show(10)"
   ]
  },
  {
   "cell_type": "code",
   "execution_count": 74,
   "metadata": {},
   "outputs": [
    {
     "name": "stdout",
     "output_type": "stream",
     "text": [
      "+------+-----------+----------+--------------+---------+------+--------------------+----------------+------------------+--------------------+-------------+-------------+----------+-------------+---------------+------------------+---------------+---------------+----------------+---------------------+-----------+--------------+--------------+---------+----------------------+------+-----------+-----------+------------+------------+-------+------------+-----+-----+-------+----------+-------------+\n",
      "|Emp ID|Name Prefix|First_Name|Middle Initial|Last Name|Gender|              E Mail|   Father's Name|     Mother's Name|Mother's Maiden Name|Date of Birth|Time of Birth|Age_in_Yrs|Weight_in_Kgs|Date of Joining|Quarter of Joining|Half of Joining|Year of Joining|Month of Joining|Month Name of Joining|Short Month|Day of Joining|DOW of Joining|Short DOW|Age in Company (Years)|Salary|Last % Hike|        SSN|  Phone No. |  Place Name| County|        City|State|  Zip| Region| User Name|     Password|\n",
      "+------+-----------+----------+--------------+---------+------+--------------------+----------------+------------------+--------------------+-------------+-------------+----------+-------------+---------------+------------------+---------------+---------------+----------------+---------------------+-----------+--------------+--------------+---------+----------------------+------+-----------+-----------+------------+------------+-------+------------+-----+-----+-------+----------+-------------+\n",
      "|677509|       Drs.|      Lois|             H|   Walker|     F|lois.walker@hotma...|   Donald Walker|      Helen Walker|               Lewis|    3/29/1981|  02:31:49 AM|     36.36|           60|     11/24/2003|                Q4|             H2|           2003|              11|             November|        Nov|            24|        Monday|      Mon|                 13.68|168251|        21%|467-99-4677|303-572-8492|      Denver| Denver|      Denver|   CO|80224|   West|  lhwalker|DCa}.T}X:v?NP|\n",
      "|940761|        Ms.|    Brenda|             S| Robinson|     F|brenda.robinson@g...|Raymond Robinson|     Judy Robinson|               Perry|    7/31/1970|  12:13:27 PM|     47.02|           60|      7/27/2008|                Q3|             H2|           2008|               7|                 July|        Jul|            27|        Sunday|      Sun|                  9.01| 51063|        27%|537-71-4566|225-945-4954|   Stonewall|De Soto|   Stonewall|   LA|71078|  South|bsrobinson|TCo\\j#Zg;SQ~o|\n",
      "|428945|        Dr.|       Joe|             W| Robinson|     M|joe.robinson@gmai...|  Scott Robinson|Stephanie Robinson|              Taylor|    6/16/1963|  10:45:36 AM|     54.15|           68|       8/3/2016|                Q3|             H2|           2016|               8|               August|        Aug|             3|     Wednesday|      Wed|                  0.98| 50155|        16%|025-92-3584|219-904-2161|Michigantown|Clinton|Michigantown|   IN|46057|Midwest|jwrobinson| GO4$J8MiEh[A|\n",
      "+------+-----------+----------+--------------+---------+------+--------------------+----------------+------------------+--------------------+-------------+-------------+----------+-------------+---------------+------------------+---------------+---------------+----------------+---------------------+-----------+--------------+--------------+---------+----------------------+------+-----------+-----------+------------+------------+-------+------------+-----+-----+-------+----------+-------------+\n",
      "only showing top 3 rows\n",
      "\n"
     ]
    }
   ],
   "source": [
    "df.show(3)"
   ]
  },
  {
   "cell_type": "code",
   "execution_count": 76,
   "metadata": {},
   "outputs": [
    {
     "name": "stdout",
     "output_type": "stream",
     "text": [
      "+---------------+\n",
      "|max(Age_in_Yrs)|\n",
      "+---------------+\n",
      "|          59.47|\n",
      "+---------------+\n",
      "\n"
     ]
    }
   ],
   "source": [
    "df.agg({'Age_in_Yrs':'max'}).show()"
   ]
  },
  {
   "cell_type": "code",
   "execution_count": 84,
   "metadata": {},
   "outputs": [
    {
     "name": "stdout",
     "output_type": "stream",
     "text": [
      "+----------+\n",
      "|Age_in_Yrs|\n",
      "+----------+\n",
      "|     59.47|\n",
      "|     59.42|\n",
      "|     59.27|\n",
      "|     59.12|\n",
      "|     58.43|\n",
      "|     58.18|\n",
      "|     58.15|\n",
      "|     58.08|\n",
      "|     57.37|\n",
      "|     56.66|\n",
      "+----------+\n",
      "only showing top 10 rows\n",
      "\n"
     ]
    }
   ],
   "source": [
    "df.select(df.Age_in_Yrs).sort(df.Age_in_Yrs,ascending=False).show(10)"
   ]
  },
  {
   "cell_type": "code",
   "execution_count": 85,
   "metadata": {},
   "outputs": [
    {
     "data": {
      "text/plain": [
       "['Emp ID',\n",
       " 'Name Prefix',\n",
       " 'First_Name',\n",
       " 'Middle Initial',\n",
       " 'Last Name',\n",
       " 'Gender',\n",
       " 'E Mail',\n",
       " \"Father's Name\",\n",
       " \"Mother's Name\",\n",
       " \"Mother's Maiden Name\",\n",
       " 'Date of Birth',\n",
       " 'Time of Birth',\n",
       " 'Age_in_Yrs',\n",
       " 'Weight_in_Kgs',\n",
       " 'Date of Joining',\n",
       " 'Quarter of Joining',\n",
       " 'Half of Joining',\n",
       " 'Year of Joining',\n",
       " 'Month of Joining',\n",
       " 'Month Name of Joining',\n",
       " 'Short Month',\n",
       " 'Day of Joining',\n",
       " 'DOW of Joining',\n",
       " 'Short DOW',\n",
       " 'Age in Company (Years)',\n",
       " 'Salary',\n",
       " 'Last % Hike',\n",
       " 'SSN',\n",
       " 'Phone No. ',\n",
       " 'Place Name',\n",
       " 'County',\n",
       " 'City',\n",
       " 'State',\n",
       " 'Zip',\n",
       " 'Region',\n",
       " 'User Name',\n",
       " 'Password']"
      ]
     },
     "execution_count": 85,
     "metadata": {},
     "output_type": "execute_result"
    }
   ],
   "source": [
    "df.columns"
   ]
  },
  {
   "cell_type": "code",
   "execution_count": 86,
   "metadata": {},
   "outputs": [],
   "source": [
    "df.createGlobalTempView('new_tab')"
   ]
  },
  {
   "cell_type": "code",
   "execution_count": 90,
   "metadata": {},
   "outputs": [],
   "source": [
    "f=spark.sql(\"select 11+11\")"
   ]
  },
  {
   "cell_type": "code",
   "execution_count": 91,
   "metadata": {},
   "outputs": [
    {
     "name": "stdout",
     "output_type": "stream",
     "text": [
      "+---------+\n",
      "|(11 + 11)|\n",
      "+---------+\n",
      "|       22|\n",
      "+---------+\n",
      "\n"
     ]
    }
   ],
   "source": [
    "f.show()"
   ]
  },
  {
   "cell_type": "code",
   "execution_count": 1,
   "metadata": {},
   "outputs": [
    {
     "data": {
      "text/html": [
       "\n",
       "        <div>\n",
       "            <p><b>SparkContext</b></p>\n",
       "\n",
       "            <p><a href=\"http://ven:4040\">Spark UI</a></p>\n",
       "\n",
       "            <dl>\n",
       "              <dt>Version</dt>\n",
       "                <dd><code>v2.3.3</code></dd>\n",
       "              <dt>Master</dt>\n",
       "                <dd><code>local[*]</code></dd>\n",
       "              <dt>AppName</dt>\n",
       "                <dd><code>PySparkShell</code></dd>\n",
       "            </dl>\n",
       "        </div>\n",
       "        "
      ],
      "text/plain": [
       "<SparkContext master=local[*] appName=PySparkShell>"
      ]
     },
     "execution_count": 1,
     "metadata": {},
     "output_type": "execute_result"
    }
   ],
   "source": [
    "sc"
   ]
  },
  {
   "cell_type": "code",
   "execution_count": 14,
   "metadata": {},
   "outputs": [],
   "source": [
    "df = spark.read.format(\"cSV\") \\\n",
    "     .option(\"header\",True) \\\n",
    "     .option(\"inferSchema\",True) \\\n",
    "     .option(\"sep\",'|') \\\n",
    "     .load('C:\\\\Users\\\\venk\\\\Desktop\\\\py_pgm\\\\sample_file\\\\samp1.csv')"
   ]
  },
  {
   "cell_type": "code",
   "execution_count": 2,
   "metadata": {},
   "outputs": [
    {
     "data": {
      "text/plain": [
       "'C:\\\\Users\\\\venk\\\\Desktop\\\\py_pgm'"
      ]
     },
     "execution_count": 2,
     "metadata": {},
     "output_type": "execute_result"
    }
   ],
   "source": [
    "import os\n",
    "os.getcwd()"
   ]
  },
  {
   "cell_type": "code",
   "execution_count": 15,
   "metadata": {},
   "outputs": [
    {
     "name": "stdout",
     "output_type": "stream",
     "text": [
      "+----------+------+------+\n",
      "|first_name|salary|dep_id|\n",
      "+----------+------+------+\n",
      "|    venkat|   100|    IT|\n",
      "|     Kumar|   200|   ECE|\n",
      "+----------+------+------+\n",
      "\n"
     ]
    }
   ],
   "source": [
    "df.show(3)"
   ]
  },
  {
   "cell_type": "code",
   "execution_count": null,
   "metadata": {},
   "outputs": [],
   "source": []
  }
 ],
 "metadata": {
  "kernelspec": {
   "display_name": "Python 3",
   "language": "python",
   "name": "python3"
  },
  "language_info": {
   "codemirror_mode": {
    "name": "ipython",
    "version": 3
   },
   "file_extension": ".py",
   "mimetype": "text/x-python",
   "name": "python",
   "nbconvert_exporter": "python",
   "pygments_lexer": "ipython3",
   "version": "3.7.1"
  }
 },
 "nbformat": 4,
 "nbformat_minor": 2
}
