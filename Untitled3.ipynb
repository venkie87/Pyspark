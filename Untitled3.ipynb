{
 "cells": [
  {
   "cell_type": "code",
   "execution_count": 15,
   "metadata": {},
   "outputs": [
    {
     "name": "stdout",
     "output_type": "stream",
     "text": [
      "value of result is: 2\n",
      "value of result is: 6\n",
      "value of result is: 24\n",
      "value of result is: 120\n",
      "value of result is: 720\n",
      "value of result is: 5040\n",
      "value of result is: 40320\n",
      "40320\n"
     ]
    }
   ],
   "source": [
    "n = 8\n",
    "result=1\n",
    "\n",
    "for i in range(1,n):\n",
    "    result = (result * (i +1))\n",
    "    #print(\"value of i is:\", i)\n",
    "    print(\"value of result is:\", result)\n",
    "\n",
    "print(result)"
   ]
  },
  {
   "cell_type": "code",
   "execution_count": 32,
   "metadata": {},
   "outputs": [
    {
     "name": "stdout",
     "output_type": "stream",
     "text": [
      "5040\n"
     ]
    }
   ],
   "source": [
    "def fact(x):\n",
    "    if x == 0:\n",
    "        return 1\n",
    "    return x * fact(x-1)\n",
    "\n",
    "x=int(7)\n",
    "print (fact(x))\n",
    "\n",
    "\n",
    "#x=int(raw_input())\n"
   ]
  },
  {
   "cell_type": "code",
   "execution_count": 24,
   "metadata": {},
   "outputs": [
    {
     "name": "stdout",
     "output_type": "stream",
     "text": [
      "5040\n"
     ]
    }
   ],
   "source": [
    "def fact(x):\n",
    "    if x == 0:\n",
    "        return 1\n",
    "    return x * fact(x - 1)\n",
    "\n",
    "x=int(7)\n",
    "print (fact(x))"
   ]
  },
  {
   "cell_type": "code",
   "execution_count": null,
   "metadata": {},
   "outputs": [],
   "source": []
  }
 ],
 "metadata": {
  "kernelspec": {
   "display_name": "Python 3",
   "language": "python",
   "name": "python3"
  },
  "language_info": {
   "codemirror_mode": {
    "name": "ipython",
    "version": 3
   },
   "file_extension": ".py",
   "mimetype": "text/x-python",
   "name": "python",
   "nbconvert_exporter": "python",
   "pygments_lexer": "ipython3",
   "version": "3.7.1"
  }
 },
 "nbformat": 4,
 "nbformat_minor": 2
}
